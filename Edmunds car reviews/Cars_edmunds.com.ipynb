{
 "cells": [
  {
   "cell_type": "markdown",
   "metadata": {
    "colab_type": "text",
    "id": "9HmEYTfxB8SX"
   },
   "source": [
    "# Final Collated Results (Code Later in the file)\n"
   ]
  },
  {
   "cell_type": "markdown",
   "metadata": {
    "colab_type": "text",
    "id": "kP6BxcmoCCFl"
   },
   "source": [
    "## 1) Forum URL"
   ]
  },
  {
   "cell_type": "markdown",
   "metadata": {
    "colab_type": "text",
    "id": "9uvwXJ3iCHpp"
   },
   "source": [
    "https://forums.edmunds.com/discussion/7526/general/x/midsize-sedans-2-0/p%22\n",
    "\n",
    "Midsize Sedans discussion"
   ]
  },
  {
   "cell_type": "markdown",
   "metadata": {
    "colab_type": "text",
    "id": "OADvkmtkCSwt"
   },
   "source": [
    "## 2) Top 10 brands"
   ]
  },
  {
   "cell_type": "code",
   "execution_count": 0,
   "metadata": {
    "colab": {
     "base_uri": "https://localhost:8080/",
     "height": 362
    },
    "colab_type": "code",
    "executionInfo": {
     "elapsed": 22469,
     "status": "ok",
     "timestamp": 1573250642570,
     "user": {
      "displayName": "Anshika Ahuja",
      "photoUrl": "",
      "userId": "15378155533742919869"
     },
     "user_tz": 360
    },
    "id": "h7ErQDAiCluy",
    "outputId": "704b1593-d0f9-4830-82b7-bd6cf43b7add"
   },
   "outputs": [
    {
     "data": {
      "text/html": [
       "<div>\n",
       "<style scoped>\n",
       "    .dataframe tbody tr th:only-of-type {\n",
       "        vertical-align: middle;\n",
       "    }\n",
       "\n",
       "    .dataframe tbody tr th {\n",
       "        vertical-align: top;\n",
       "    }\n",
       "\n",
       "    .dataframe thead th {\n",
       "        text-align: right;\n",
       "    }\n",
       "</style>\n",
       "<table border=\"1\" class=\"dataframe\">\n",
       "  <thead>\n",
       "    <tr style=\"text-align: right;\">\n",
       "      <th></th>\n",
       "      <th>Frequency</th>\n",
       "    </tr>\n",
       "  </thead>\n",
       "  <tbody>\n",
       "    <tr>\n",
       "      <th>honda</th>\n",
       "      <td>2237</td>\n",
       "    </tr>\n",
       "    <tr>\n",
       "      <th>ford</th>\n",
       "      <td>1409</td>\n",
       "    </tr>\n",
       "    <tr>\n",
       "      <th>toyota</th>\n",
       "      <td>1103</td>\n",
       "    </tr>\n",
       "    <tr>\n",
       "      <th>hyundai</th>\n",
       "      <td>659</td>\n",
       "    </tr>\n",
       "    <tr>\n",
       "      <th>mazda</th>\n",
       "      <td>606</td>\n",
       "    </tr>\n",
       "    <tr>\n",
       "      <th>nissan</th>\n",
       "      <td>601</td>\n",
       "    </tr>\n",
       "    <tr>\n",
       "      <th>chevrolet</th>\n",
       "      <td>316</td>\n",
       "    </tr>\n",
       "    <tr>\n",
       "      <th>saturn</th>\n",
       "      <td>301</td>\n",
       "    </tr>\n",
       "    <tr>\n",
       "      <th>chrysler</th>\n",
       "      <td>266</td>\n",
       "    </tr>\n",
       "    <tr>\n",
       "      <th>subaru</th>\n",
       "      <td>166</td>\n",
       "    </tr>\n",
       "  </tbody>\n",
       "</table>\n",
       "</div>"
      ],
      "text/plain": [
       "           Frequency\n",
       "honda           2237\n",
       "ford            1409\n",
       "toyota          1103\n",
       "hyundai          659\n",
       "mazda            606\n",
       "nissan           601\n",
       "chevrolet        316\n",
       "saturn           301\n",
       "chrysler         266\n",
       "subaru           166"
      ]
     },
     "execution_count": 38,
     "metadata": {
      "tags": []
     },
     "output_type": "execute_result"
    }
   ],
   "source": [
    "top10"
   ]
  },
  {
   "cell_type": "markdown",
   "metadata": {
    "colab_type": "text",
    "id": "BjH4ranBEB7s"
   },
   "source": [
    "## 3) Lift calculations"
   ]
  },
  {
   "cell_type": "code",
   "execution_count": 0,
   "metadata": {
    "colab": {
     "base_uri": "https://localhost:8080/",
     "height": 362
    },
    "colab_type": "code",
    "executionInfo": {
     "elapsed": 396,
     "status": "ok",
     "timestamp": 1573251082862,
     "user": {
      "displayName": "Anshika Ahuja",
      "photoUrl": "",
      "userId": "15378155533742919869"
     },
     "user_tz": 360
    },
    "id": "oEu-cbyjElmS",
    "outputId": "84d22401-eb29-469c-cbaa-cc56f3d79c36"
   },
   "outputs": [
    {
     "data": {
      "text/html": [
       "<div>\n",
       "<style scoped>\n",
       "    .dataframe tbody tr th:only-of-type {\n",
       "        vertical-align: middle;\n",
       "    }\n",
       "\n",
       "    .dataframe tbody tr th {\n",
       "        vertical-align: top;\n",
       "    }\n",
       "\n",
       "    .dataframe thead th {\n",
       "        text-align: right;\n",
       "    }\n",
       "</style>\n",
       "<table border=\"1\" class=\"dataframe\">\n",
       "  <thead>\n",
       "    <tr style=\"text-align: right;\">\n",
       "      <th></th>\n",
       "      <th>honda</th>\n",
       "      <th>ford</th>\n",
       "      <th>toyota</th>\n",
       "      <th>hyundai</th>\n",
       "      <th>mazda</th>\n",
       "      <th>nissan</th>\n",
       "      <th>chevrolet</th>\n",
       "      <th>saturn</th>\n",
       "      <th>chrysler</th>\n",
       "      <th>subaru</th>\n",
       "    </tr>\n",
       "  </thead>\n",
       "  <tbody>\n",
       "    <tr>\n",
       "      <th>honda</th>\n",
       "      <td>1</td>\n",
       "      <td>1.14146</td>\n",
       "      <td>1.67664</td>\n",
       "      <td>1.4665</td>\n",
       "      <td>1.13405</td>\n",
       "      <td>1.4373</td>\n",
       "      <td>1.30639</td>\n",
       "      <td>1.33978</td>\n",
       "      <td>1.36356</td>\n",
       "      <td>1.37999</td>\n",
       "    </tr>\n",
       "    <tr>\n",
       "      <th>ford</th>\n",
       "      <td>1.14146</td>\n",
       "      <td>1</td>\n",
       "      <td>1.35328</td>\n",
       "      <td>1.16127</td>\n",
       "      <td>1.22532</td>\n",
       "      <td>1.18509</td>\n",
       "      <td>1.35475</td>\n",
       "      <td>1.24605</td>\n",
       "      <td>1.28182</td>\n",
       "      <td>0.89007</td>\n",
       "    </tr>\n",
       "    <tr>\n",
       "      <th>toyota</th>\n",
       "      <td>1.67664</td>\n",
       "      <td>1.35328</td>\n",
       "      <td>1</td>\n",
       "      <td>1.84328</td>\n",
       "      <td>0.966309</td>\n",
       "      <td>2.1339</td>\n",
       "      <td>2.03689</td>\n",
       "      <td>2.20271</td>\n",
       "      <td>1.36453</td>\n",
       "      <td>1.19531</td>\n",
       "    </tr>\n",
       "    <tr>\n",
       "      <th>hyundai</th>\n",
       "      <td>1.4665</td>\n",
       "      <td>1.16127</td>\n",
       "      <td>1.84328</td>\n",
       "      <td>1</td>\n",
       "      <td>1.17626</td>\n",
       "      <td>1.64429</td>\n",
       "      <td>1.74307</td>\n",
       "      <td>1.72229</td>\n",
       "      <td>1.52258</td>\n",
       "      <td>2.00064</td>\n",
       "    </tr>\n",
       "    <tr>\n",
       "      <th>mazda</th>\n",
       "      <td>1.13405</td>\n",
       "      <td>1.22532</td>\n",
       "      <td>0.966309</td>\n",
       "      <td>1.17626</td>\n",
       "      <td>1</td>\n",
       "      <td>1.46565</td>\n",
       "      <td>0.975634</td>\n",
       "      <td>1.08278</td>\n",
       "      <td>0.728529</td>\n",
       "      <td>3.28995</td>\n",
       "    </tr>\n",
       "    <tr>\n",
       "      <th>nissan</th>\n",
       "      <td>1.4373</td>\n",
       "      <td>1.18509</td>\n",
       "      <td>2.1339</td>\n",
       "      <td>1.64429</td>\n",
       "      <td>1.46565</td>\n",
       "      <td>1</td>\n",
       "      <td>1.88318</td>\n",
       "      <td>2.56718</td>\n",
       "      <td>1.0351</td>\n",
       "      <td>1.97969</td>\n",
       "    </tr>\n",
       "    <tr>\n",
       "      <th>chevrolet</th>\n",
       "      <td>1.30639</td>\n",
       "      <td>1.35475</td>\n",
       "      <td>2.03689</td>\n",
       "      <td>1.74307</td>\n",
       "      <td>0.975634</td>\n",
       "      <td>1.88318</td>\n",
       "      <td>1</td>\n",
       "      <td>5.05089</td>\n",
       "      <td>2.03217</td>\n",
       "      <td>1.3229</td>\n",
       "    </tr>\n",
       "    <tr>\n",
       "      <th>saturn</th>\n",
       "      <td>1.33978</td>\n",
       "      <td>1.24605</td>\n",
       "      <td>2.20271</td>\n",
       "      <td>1.72229</td>\n",
       "      <td>1.08278</td>\n",
       "      <td>2.56718</td>\n",
       "      <td>5.05089</td>\n",
       "      <td>1</td>\n",
       "      <td>1.20006</td>\n",
       "      <td>1.60249</td>\n",
       "    </tr>\n",
       "    <tr>\n",
       "      <th>chrysler</th>\n",
       "      <td>1.36356</td>\n",
       "      <td>1.28182</td>\n",
       "      <td>1.36453</td>\n",
       "      <td>1.52258</td>\n",
       "      <td>0.728529</td>\n",
       "      <td>1.0351</td>\n",
       "      <td>2.03217</td>\n",
       "      <td>1.20006</td>\n",
       "      <td>1</td>\n",
       "      <td>0.846227</td>\n",
       "    </tr>\n",
       "    <tr>\n",
       "      <th>subaru</th>\n",
       "      <td>1.37999</td>\n",
       "      <td>0.89007</td>\n",
       "      <td>1.19531</td>\n",
       "      <td>2.00064</td>\n",
       "      <td>3.28995</td>\n",
       "      <td>1.97969</td>\n",
       "      <td>1.3229</td>\n",
       "      <td>1.60249</td>\n",
       "      <td>0.846227</td>\n",
       "      <td>1</td>\n",
       "    </tr>\n",
       "  </tbody>\n",
       "</table>\n",
       "</div>"
      ],
      "text/plain": [
       "             honda     ford    toyota  ...   saturn  chrysler    subaru\n",
       "honda            1  1.14146   1.67664  ...  1.33978   1.36356   1.37999\n",
       "ford       1.14146        1   1.35328  ...  1.24605   1.28182   0.89007\n",
       "toyota     1.67664  1.35328         1  ...  2.20271   1.36453   1.19531\n",
       "hyundai     1.4665  1.16127   1.84328  ...  1.72229   1.52258   2.00064\n",
       "mazda      1.13405  1.22532  0.966309  ...  1.08278  0.728529   3.28995\n",
       "nissan      1.4373  1.18509    2.1339  ...  2.56718    1.0351   1.97969\n",
       "chevrolet  1.30639  1.35475   2.03689  ...  5.05089   2.03217    1.3229\n",
       "saturn     1.33978  1.24605   2.20271  ...        1   1.20006   1.60249\n",
       "chrysler   1.36356  1.28182   1.36453  ...  1.20006         1  0.846227\n",
       "subaru     1.37999  0.89007   1.19531  ...  1.60249  0.846227         1\n",
       "\n",
       "[10 rows x 10 columns]"
      ]
     },
     "execution_count": 39,
     "metadata": {
      "tags": []
     },
     "output_type": "execute_result"
    }
   ],
   "source": [
    "lift_matrix"
   ]
  },
  {
   "cell_type": "markdown",
   "metadata": {
    "colab_type": "text",
    "id": "pdc5f6d-EHy5"
   },
   "source": [
    "## 4) MDS Map"
   ]
  },
  {
   "cell_type": "markdown",
   "metadata": {
    "colab_type": "text",
    "id": "sRQySDXCEr1w"
   },
   "source": [
    "![alt text](https://)"
   ]
  },
  {
   "cell_type": "markdown",
   "metadata": {
    "colab_type": "text",
    "id": "djJta7vQELm-"
   },
   "source": [
    "## 5) Top 10 attributes chosen"
   ]
  },
  {
   "cell_type": "code",
   "execution_count": 0,
   "metadata": {
    "colab": {
     "base_uri": "https://localhost:8080/",
     "height": 362
    },
    "colab_type": "code",
    "executionInfo": {
     "elapsed": 341,
     "status": "ok",
     "timestamp": 1573251335466,
     "user": {
      "displayName": "Anshika Ahuja",
      "photoUrl": "",
      "userId": "15378155533742919869"
     },
     "user_tz": 360
    },
    "id": "8N8-6o3mFY_8",
    "outputId": "b7ab4842-5789-45e0-a863-b2958a0441de"
   },
   "outputs": [
    {
     "data": {
      "text/html": [
       "<div>\n",
       "<style scoped>\n",
       "    .dataframe tbody tr th:only-of-type {\n",
       "        vertical-align: middle;\n",
       "    }\n",
       "\n",
       "    .dataframe tbody tr th {\n",
       "        vertical-align: top;\n",
       "    }\n",
       "\n",
       "    .dataframe thead th {\n",
       "        text-align: right;\n",
       "    }\n",
       "</style>\n",
       "<table border=\"1\" class=\"dataframe\">\n",
       "  <thead>\n",
       "    <tr style=\"text-align: right;\">\n",
       "      <th></th>\n",
       "      <th>Frequency</th>\n",
       "    </tr>\n",
       "  </thead>\n",
       "  <tbody>\n",
       "    <tr>\n",
       "      <th>Design</th>\n",
       "      <td>3899</td>\n",
       "    </tr>\n",
       "    <tr>\n",
       "      <th>Engine</th>\n",
       "      <td>2562</td>\n",
       "    </tr>\n",
       "    <tr>\n",
       "      <th>Pricing</th>\n",
       "      <td>2552</td>\n",
       "    </tr>\n",
       "    <tr>\n",
       "      <th>Year</th>\n",
       "      <td>1283</td>\n",
       "    </tr>\n",
       "    <tr>\n",
       "      <th>Models</th>\n",
       "      <td>1119</td>\n",
       "    </tr>\n",
       "    <tr>\n",
       "      <th>Manufacturer</th>\n",
       "      <td>1032</td>\n",
       "    </tr>\n",
       "    <tr>\n",
       "      <th>Rankings/Rating/Reviews</th>\n",
       "      <td>771</td>\n",
       "    </tr>\n",
       "    <tr>\n",
       "      <th>Safety</th>\n",
       "      <td>355</td>\n",
       "    </tr>\n",
       "    <tr>\n",
       "      <th>Efficiency</th>\n",
       "      <td>159</td>\n",
       "    </tr>\n",
       "    <tr>\n",
       "      <th>Pickup</th>\n",
       "      <td>34</td>\n",
       "    </tr>\n",
       "  </tbody>\n",
       "</table>\n",
       "</div>"
      ],
      "text/plain": [
       "                         Frequency\n",
       "Design                        3899\n",
       "Engine                        2562\n",
       "Pricing                       2552\n",
       "Year                          1283\n",
       "Models                        1119\n",
       "Manufacturer                  1032\n",
       "Rankings/Rating/Reviews        771\n",
       "Safety                         355\n",
       "Efficiency                     159\n",
       "Pickup                          34"
      ]
     },
     "execution_count": 44,
     "metadata": {
      "tags": []
     },
     "output_type": "execute_result"
    }
   ],
   "source": [
    "attr_df"
   ]
  },
  {
   "cell_type": "code",
   "execution_count": 44,
   "metadata": {
    "colab": {
     "base_uri": "https://localhost:8080/",
     "height": 355
    },
    "colab_type": "code",
    "executionInfo": {
     "elapsed": 382,
     "status": "ok",
     "timestamp": 1573263282711,
     "user": {
      "displayName": "Pooja Dawada",
      "photoUrl": "",
      "userId": "09599169313104029998"
     },
     "user_tz": 360
    },
    "id": "1mfQOKhIzGfK",
    "outputId": "c2875262-f981-436c-ff56-0368359f66e8"
   },
   "outputs": [
    {
     "data": {
      "text/html": [
       "<div>\n",
       "<style scoped>\n",
       "    .dataframe tbody tr th:only-of-type {\n",
       "        vertical-align: middle;\n",
       "    }\n",
       "\n",
       "    .dataframe tbody tr th {\n",
       "        vertical-align: top;\n",
       "    }\n",
       "\n",
       "    .dataframe thead th {\n",
       "        text-align: right;\n",
       "    }\n",
       "</style>\n",
       "<table border=\"1\" class=\"dataframe\">\n",
       "  <thead>\n",
       "    <tr style=\"text-align: right;\">\n",
       "      <th></th>\n",
       "      <th>Design</th>\n",
       "      <th>Engine</th>\n",
       "      <th>Pricing</th>\n",
       "      <th>Year</th>\n",
       "      <th>Models</th>\n",
       "      <th>Manufacturer</th>\n",
       "      <th>Rankings/Rating/Reviews</th>\n",
       "      <th>Safety</th>\n",
       "      <th>Efficiency</th>\n",
       "      <th>Pickup</th>\n",
       "    </tr>\n",
       "  </thead>\n",
       "  <tbody>\n",
       "    <tr>\n",
       "      <th>honda</th>\n",
       "      <td>1.110188</td>\n",
       "      <td>1.132575</td>\n",
       "      <td>1.223037</td>\n",
       "      <td>1.350276</td>\n",
       "      <td>1.341322</td>\n",
       "      <td>1.230112</td>\n",
       "      <td>1.145144</td>\n",
       "      <td>1.135981</td>\n",
       "      <td>0.960496</td>\n",
       "      <td>1.403666</td>\n",
       "    </tr>\n",
       "    <tr>\n",
       "      <th>ford</th>\n",
       "      <td>1.071741</td>\n",
       "      <td>1.211079</td>\n",
       "      <td>1.149021</td>\n",
       "      <td>1.263818</td>\n",
       "      <td>1.259449</td>\n",
       "      <td>1.104980</td>\n",
       "      <td>1.375850</td>\n",
       "      <td>0.800388</td>\n",
       "      <td>1.167526</td>\n",
       "      <td>1.225692</td>\n",
       "    </tr>\n",
       "    <tr>\n",
       "      <th>toyota</th>\n",
       "      <td>1.122066</td>\n",
       "      <td>1.159825</td>\n",
       "      <td>1.247809</td>\n",
       "      <td>1.214597</td>\n",
       "      <td>1.682374</td>\n",
       "      <td>1.181745</td>\n",
       "      <td>1.801485</td>\n",
       "      <td>0.749786</td>\n",
       "      <td>0.943556</td>\n",
       "      <td>1.565730</td>\n",
       "    </tr>\n",
       "    <tr>\n",
       "      <th>hyundai</th>\n",
       "      <td>1.126002</td>\n",
       "      <td>1.037022</td>\n",
       "      <td>1.218832</td>\n",
       "      <td>1.508914</td>\n",
       "      <td>1.476703</td>\n",
       "      <td>1.357874</td>\n",
       "      <td>1.428821</td>\n",
       "      <td>0.889876</td>\n",
       "      <td>0.713221</td>\n",
       "      <td>0.952959</td>\n",
       "    </tr>\n",
       "    <tr>\n",
       "      <th>mazda</th>\n",
       "      <td>1.195111</td>\n",
       "      <td>1.186167</td>\n",
       "      <td>1.194267</td>\n",
       "      <td>1.455510</td>\n",
       "      <td>1.353955</td>\n",
       "      <td>1.305923</td>\n",
       "      <td>0.856866</td>\n",
       "      <td>1.265458</td>\n",
       "      <td>0.830998</td>\n",
       "      <td>2.590759</td>\n",
       "    </tr>\n",
       "    <tr>\n",
       "      <th>nissan</th>\n",
       "      <td>1.148104</td>\n",
       "      <td>1.199502</td>\n",
       "      <td>1.120674</td>\n",
       "      <td>1.294551</td>\n",
       "      <td>1.492217</td>\n",
       "      <td>1.024168</td>\n",
       "      <td>1.382391</td>\n",
       "      <td>1.225947</td>\n",
       "      <td>0.949633</td>\n",
       "      <td>1.306156</td>\n",
       "    </tr>\n",
       "    <tr>\n",
       "      <th>chevrolet</th>\n",
       "      <td>1.174107</td>\n",
       "      <td>1.160446</td>\n",
       "      <td>1.310618</td>\n",
       "      <td>1.606293</td>\n",
       "      <td>1.675654</td>\n",
       "      <td>1.456806</td>\n",
       "      <td>2.322432</td>\n",
       "      <td>1.427527</td>\n",
       "      <td>1.699865</td>\n",
       "      <td>2.484177</td>\n",
       "    </tr>\n",
       "    <tr>\n",
       "      <th>saturn</th>\n",
       "      <td>1.105262</td>\n",
       "      <td>1.162900</td>\n",
       "      <td>1.160507</td>\n",
       "      <td>1.409891</td>\n",
       "      <td>1.505586</td>\n",
       "      <td>1.254455</td>\n",
       "      <td>1.564108</td>\n",
       "      <td>0.999111</td>\n",
       "      <td>1.226896</td>\n",
       "      <td>0.521595</td>\n",
       "    </tr>\n",
       "    <tr>\n",
       "      <th>chrysler</th>\n",
       "      <td>1.137460</td>\n",
       "      <td>1.174922</td>\n",
       "      <td>1.383977</td>\n",
       "      <td>1.626686</td>\n",
       "      <td>1.398819</td>\n",
       "      <td>1.633415</td>\n",
       "      <td>1.197293</td>\n",
       "      <td>1.187102</td>\n",
       "      <td>1.766965</td>\n",
       "      <td>0.000000</td>\n",
       "    </tr>\n",
       "    <tr>\n",
       "      <th>subaru</th>\n",
       "      <td>1.187626</td>\n",
       "      <td>1.330446</td>\n",
       "      <td>1.121450</td>\n",
       "      <td>1.203054</td>\n",
       "      <td>1.436847</td>\n",
       "      <td>1.121743</td>\n",
       "      <td>0.917569</td>\n",
       "      <td>1.177567</td>\n",
       "      <td>1.617943</td>\n",
       "      <td>0.000000</td>\n",
       "    </tr>\n",
       "  </tbody>\n",
       "</table>\n",
       "</div>"
      ],
      "text/plain": [
       "             Design    Engine   Pricing  ...    Safety  Efficiency    Pickup\n",
       "honda      1.110188  1.132575  1.223037  ...  1.135981    0.960496  1.403666\n",
       "ford       1.071741  1.211079  1.149021  ...  0.800388    1.167526  1.225692\n",
       "toyota     1.122066  1.159825  1.247809  ...  0.749786    0.943556  1.565730\n",
       "hyundai    1.126002  1.037022  1.218832  ...  0.889876    0.713221  0.952959\n",
       "mazda      1.195111  1.186167  1.194267  ...  1.265458    0.830998  2.590759\n",
       "nissan     1.148104  1.199502  1.120674  ...  1.225947    0.949633  1.306156\n",
       "chevrolet  1.174107  1.160446  1.310618  ...  1.427527    1.699865  2.484177\n",
       "saturn     1.105262  1.162900  1.160507  ...  0.999111    1.226896  0.521595\n",
       "chrysler   1.137460  1.174922  1.383977  ...  1.187102    1.766965  0.000000\n",
       "subaru     1.187626  1.330446  1.121450  ...  1.177567    1.617943  0.000000\n",
       "\n",
       "[10 rows x 10 columns]"
      ]
     },
     "execution_count": 44,
     "metadata": {
      "tags": []
     },
     "output_type": "execute_result"
    }
   ],
   "source": [
    "attr_matrix"
   ]
  },
  {
   "cell_type": "markdown",
   "metadata": {
    "colab_type": "text",
    "id": "C1Em0AnsEQrI"
   },
   "source": [
    "##6) Methodology adopted for analysis of aspirational brands"
   ]
  },
  {
   "cell_type": "markdown",
   "metadata": {
    "colab_type": "text",
    "id": "hmSARHvLFqw8"
   },
   "source": [
    "**Methodology Adopted:** We made a list of probable aspirational phrases (bigrams) like 'wish to', 'dream of', etc., which can be used by users to convey their aspirations to buy a particular brand of car. We calculated the aspirations count for each comment (set as 1 if the comment had mentions of 1 or more aspirational phrases from the list).\n",
    "Then, we calculated the asscoiations between the top 10 brands andthe aspirational words by calculating their lift."
   ]
  },
  {
   "cell_type": "markdown",
   "metadata": {
    "colab_type": "text",
    "id": "GjxuuxOoEarY"
   },
   "source": [
    "## 7) Advise to managers\n",
    "\n",
    "###Brand to Brand Lift values - \n",
    "The lift values of Chevrolet and Saturn are very high. So probably they are each other's biggest competitors and have very similar cars in the midsize sedans category. Both these companies can leverage this and being mentioned with the other brand would be helpful in promoting the brand.\n",
    "\n",
    "###MDS Plot -\n",
    "What we could find from the analysis is that Asian brands dominate the midsize Sedan market in the US. FORD is the only US brand in the top 5, which means there are some attributes that stand out for Ford compared to rest of US brands. In the MDS plot above, FORD seems to have a place of its own, which provides evidence to our findings.\n",
    "\n",
    "Our recommendation to FORD Management: We are not finding the above trend carried over to the aspiration score. FORD is being talked about a lot, so it is worth investigating the associated customer sentiments and preferences. With proper marketing and branding of DISTINCT features, FORD can challenge for the top spot.\n",
    "\n",
    "###Brand to Attribute lift -\n",
    "Mazda and Chevrolet have an exceptionally good lift with pickup, which could also mean that people are mentioning about pickup trucks of these brands in the discussion about midsize sedans. This could mean people talk about pickup trucks of these brands while talking about sedans. This is a business opportunity for Mazda and Chevrolet to expand their pickup truck business by associating with sedans. Which could be something interesting to look into.\n",
    "\n",
    "###Aspirational brand\n",
    "As we can observe from the lift ratios between brands and aspirations, Mazda seems to be the most aspirational brand and people are showing interest in buying Mazda cars in the future. Our advice to the managers would be to prepare for the forecasted demand and manufacture accordingly. This should lead to higher revenues and profits for Mazda. The product managers of Mazda can also try to check what attributes of the cars are making people want to buy them and the advertising managers can advertise more on those attributes to acquire more customers.\n",
    "\n",
    "On the other hand, brands with low lift scores like Nissan should be concerned since their low lift scores means that people are not aspiring to own their brands. Product managers can try to introduce new features which may bring a change. Advertising managers can try to market the important attributes in such a way that it changes people's perceptions towards the brands."
   ]
  },
  {
   "cell_type": "markdown",
   "metadata": {
    "colab_type": "text",
    "id": "gVpXm0sI0ymf"
   },
   "source": [
    "#Code"
   ]
  },
  {
   "cell_type": "markdown",
   "metadata": {
    "colab_type": "text",
    "id": "7zgvBKavX01V"
   },
   "source": [
    "## Scraper"
   ]
  },
  {
   "cell_type": "markdown",
   "metadata": {
    "colab_type": "text",
    "id": "Pd4gm-A3gSwy"
   },
   "source": [
    "#### The scraping forum used is - \n",
    "\"https://forums.edmunds.com/discussion/7526/general/x/midsize-sedans-2-0/p\"\n",
    "#### We have provided the top brands' frequency table in the code sequences below.\n",
    "#### The attributes we chose display below along with their frequency counts."
   ]
  },
  {
   "cell_type": "code",
   "execution_count": 2,
   "metadata": {
    "colab": {
     "base_uri": "https://localhost:8080/",
     "height": 852
    },
    "colab_type": "code",
    "executionInfo": {
     "elapsed": 35861,
     "status": "ok",
     "timestamp": 1573261229369,
     "user": {
      "displayName": "Pooja Dawada",
      "photoUrl": "",
      "userId": "09599169313104029998"
     },
     "user_tz": 360
    },
    "id": "qNzXEnAsXc_U",
    "outputId": "e6216748-c49a-47de-89a0-e86a607e5ae3"
   },
   "outputs": [
    {
     "name": "stdout",
     "output_type": "stream",
     "text": [
      "Collecting selenium\n",
      "\u001b[?25l  Downloading https://files.pythonhosted.org/packages/80/d6/4294f0b4bce4de0abf13e17190289f9d0613b0a44e5dd6a7f5ca98459853/selenium-3.141.0-py2.py3-none-any.whl (904kB)\n",
      "\u001b[K     |████████████████████████████████| 911kB 3.4MB/s \n",
      "\u001b[?25hRequirement already satisfied: urllib3 in /usr/local/lib/python3.6/dist-packages (from selenium) (1.24.3)\n",
      "Installing collected packages: selenium\n",
      "Successfully installed selenium-3.141.0\n",
      "Reading package lists...\n",
      "Building dependency tree...\n",
      "Reading state information...\n",
      "The following additional packages will be installed:\n",
      "  chromium-browser chromium-browser-l10n chromium-codecs-ffmpeg-extra\n",
      "Suggested packages:\n",
      "  webaccounts-chromium-extension unity-chromium-extension adobe-flashplugin\n",
      "The following NEW packages will be installed:\n",
      "  chromium-browser chromium-browser-l10n chromium-chromedriver\n",
      "  chromium-codecs-ffmpeg-extra\n",
      "0 upgraded, 4 newly installed, 0 to remove and 35 not upgraded.\n",
      "Need to get 71.9 MB of archives.\n",
      "After this operation, 257 MB of additional disk space will be used.\n",
      "Get:1 http://archive.ubuntu.com/ubuntu bionic-updates/universe amd64 chromium-codecs-ffmpeg-extra amd64 78.0.3904.70-0ubuntu0.18.04.2 [1,078 kB]\n",
      "Get:2 http://archive.ubuntu.com/ubuntu bionic-updates/universe amd64 chromium-browser amd64 78.0.3904.70-0ubuntu0.18.04.2 [63.3 MB]\n",
      "Get:3 http://archive.ubuntu.com/ubuntu bionic-updates/universe amd64 chromium-browser-l10n all 78.0.3904.70-0ubuntu0.18.04.2 [3,073 kB]\n",
      "Get:4 http://archive.ubuntu.com/ubuntu bionic-updates/universe amd64 chromium-chromedriver amd64 78.0.3904.70-0ubuntu0.18.04.2 [4,465 kB]\n",
      "Fetched 71.9 MB in 10s (6,853 kB/s)\n",
      "Selecting previously unselected package chromium-codecs-ffmpeg-extra.\n",
      "(Reading database ... 132684 files and directories currently installed.)\n",
      "Preparing to unpack .../chromium-codecs-ffmpeg-extra_78.0.3904.70-0ubuntu0.18.04.2_amd64.deb ...\n",
      "Unpacking chromium-codecs-ffmpeg-extra (78.0.3904.70-0ubuntu0.18.04.2) ...\n",
      "Selecting previously unselected package chromium-browser.\n",
      "Preparing to unpack .../chromium-browser_78.0.3904.70-0ubuntu0.18.04.2_amd64.deb ...\n",
      "Unpacking chromium-browser (78.0.3904.70-0ubuntu0.18.04.2) ...\n",
      "Selecting previously unselected package chromium-browser-l10n.\n",
      "Preparing to unpack .../chromium-browser-l10n_78.0.3904.70-0ubuntu0.18.04.2_all.deb ...\n",
      "Unpacking chromium-browser-l10n (78.0.3904.70-0ubuntu0.18.04.2) ...\n",
      "Selecting previously unselected package chromium-chromedriver.\n",
      "Preparing to unpack .../chromium-chromedriver_78.0.3904.70-0ubuntu0.18.04.2_amd64.deb ...\n",
      "Unpacking chromium-chromedriver (78.0.3904.70-0ubuntu0.18.04.2) ...\n",
      "Processing triggers for mime-support (3.60ubuntu1) ...\n",
      "Setting up chromium-codecs-ffmpeg-extra (78.0.3904.70-0ubuntu0.18.04.2) ...\n",
      "Processing triggers for man-db (2.8.3-2ubuntu0.1) ...\n",
      "Processing triggers for hicolor-icon-theme (0.17-2) ...\n",
      "Setting up chromium-browser (78.0.3904.70-0ubuntu0.18.04.2) ...\n",
      "update-alternatives: using /usr/bin/chromium-browser to provide /usr/bin/x-www-browser (x-www-browser) in auto mode\n",
      "update-alternatives: using /usr/bin/chromium-browser to provide /usr/bin/gnome-www-browser (gnome-www-browser) in auto mode\n",
      "Setting up chromium-chromedriver (78.0.3904.70-0ubuntu0.18.04.2) ...\n",
      "Setting up chromium-browser-l10n (78.0.3904.70-0ubuntu0.18.04.2) ...\n",
      "cp: '/usr/lib/chromium-browser/chromedriver' and '/usr/bin/chromedriver' are the same file\n"
     ]
    }
   ],
   "source": [
    "!pip install selenium\n",
    "# !apt-get -q update # to update ubuntu to correctly run apt install\n",
    "!apt install -yq chromium-chromedriver\n",
    "!cp /usr/lib/chromium-browser/chromedriver /usr/bin\n",
    "\n",
    "import sys\n",
    "sys.path.insert(0,'/usr/lib/chromium-browser/chromedriver')\n",
    "from selenium import webdriver\n",
    "chrome_options = webdriver.ChromeOptions()\n",
    "chrome_options.add_argument('--headless')\n",
    "chrome_options.add_argument('--no-sandbox')\n",
    "chrome_options.add_argument('--disable-dev-shm-usage')"
   ]
  },
  {
   "cell_type": "code",
   "execution_count": 0,
   "metadata": {
    "colab": {},
    "colab_type": "code",
    "id": "SRwuRKaMXnH4"
   },
   "outputs": [],
   "source": [
    "import pandas as pd\n",
    "driver = webdriver.Chrome('chromedriver', options=chrome_options)"
   ]
  },
  {
   "cell_type": "code",
   "execution_count": 0,
   "metadata": {
    "colab": {},
    "colab_type": "code",
    "id": "b5dM7XcIXri5"
   },
   "outputs": [],
   "source": [
    "#Scraper\n",
    "df=pd.DataFrame(columns=['userid_','time_','comment_'])\n",
    "for x in range(1,110):\n",
    "  driver.get('https://forums.edmunds.com/discussion/7526/general/x/midsize-sedans-2-0/p'+str(x))\n",
    "  for i in range(0,49):\n",
    "    time = driver.find_elements_by_xpath('/html/body/div[1]/main/div/div[3]/div[5]/div[1]/ul/li['+str(i+1)+']/div/div[2]/div[2]/span/a/time')[0]\n",
    "    time_ = time.get_attribute('title')\n",
    "    userid = driver.find_elements_by_xpath('/html/body/div[1]/main/div/div[3]/div[5]/div[1]/ul/li['+str(i+1)+']/div/div[2]/div[1]/span[1]/a[2]')[0]\n",
    "    userid_ = userid.text\n",
    "    comment= driver.find_elements_by_xpath('/html/body/div[1]/main/div/div[3]/div[5]/div[1]/ul/li['+str(i+1)+']/div/div[3]/div/div[1]')[0]\n",
    "    comment_= comment.text\n",
    "    \n",
    "    df.loc[len(df)]=[userid_, time_,comment_]\n",
    "df.to_csv('data.csv')"
   ]
  },
  {
   "cell_type": "markdown",
   "metadata": {
    "colab_type": "text",
    "id": "a-qumeTB4tM1"
   },
   "source": [
    "#TASK A: Top 10 brands "
   ]
  },
  {
   "cell_type": "markdown",
   "metadata": {
    "colab_type": "text",
    "id": "oPdKM6_YcskF"
   },
   "source": [
    "## Cleaning and replacing model with brand"
   ]
  },
  {
   "cell_type": "code",
   "execution_count": 4,
   "metadata": {
    "colab": {
     "base_uri": "https://localhost:8080/",
     "height": 124
    },
    "colab_type": "code",
    "executionInfo": {
     "elapsed": 23921,
     "status": "ok",
     "timestamp": 1573261282711,
     "user": {
      "displayName": "Pooja Dawada",
      "photoUrl": "",
      "userId": "09599169313104029998"
     },
     "user_tz": 360
    },
    "id": "-84TeVkq56sX",
    "outputId": "6002126e-2053-4f33-c198-f9f7e984dbd2"
   },
   "outputs": [
    {
     "name": "stdout",
     "output_type": "stream",
     "text": [
      "Go to this URL in a browser: https://accounts.google.com/o/oauth2/auth?client_id=947318989803-6bn6qk8qdgf4n4g3pfee6491hc0brc4i.apps.googleusercontent.com&redirect_uri=urn%3Aietf%3Awg%3Aoauth%3A2.0%3Aoob&scope=email%20https%3A%2F%2Fwww.googleapis.com%2Fauth%2Fdocs.test%20https%3A%2F%2Fwww.googleapis.com%2Fauth%2Fdrive%20https%3A%2F%2Fwww.googleapis.com%2Fauth%2Fdrive.photos.readonly%20https%3A%2F%2Fwww.googleapis.com%2Fauth%2Fpeopleapi.readonly&response_type=code\n",
      "\n",
      "Enter your authorization code:\n",
      "··········\n",
      "Mounted at /content/drive/\n"
     ]
    }
   ],
   "source": [
    "from google.colab import drive\n",
    "drive.mount('/content/drive/')"
   ]
  },
  {
   "cell_type": "code",
   "execution_count": 6,
   "metadata": {
    "colab": {
     "base_uri": "https://localhost:8080/",
     "height": 87
    },
    "colab_type": "code",
    "executionInfo": {
     "elapsed": 940,
     "status": "ok",
     "timestamp": 1573261383572,
     "user": {
      "displayName": "Pooja Dawada",
      "photoUrl": "",
      "userId": "09599169313104029998"
     },
     "user_tz": 360
    },
    "id": "rcZ6hHNO6v5C",
    "outputId": "975dd99f-e8d7-4d1b-9c4a-59bc16f43610"
   },
   "outputs": [
    {
     "name": "stdout",
     "output_type": "stream",
     "text": [
      "[nltk_data] Downloading package stopwords to /root/nltk_data...\n",
      "[nltk_data]   Package stopwords is already up-to-date!\n",
      "[nltk_data] Downloading package punkt to /root/nltk_data...\n",
      "[nltk_data]   Package punkt is already up-to-date!\n"
     ]
    }
   ],
   "source": [
    "# Import the Data Frame\n",
    "import nltk\n",
    "nltk.download('stopwords')\n",
    "nltk.download('punkt')\n",
    "# nltk.download('all')\n",
    "from string import punctuation\n",
    "from nltk.corpus import stopwords\n",
    "from nltk.tokenize import word_tokenize\n",
    "stop_words = set( stopwords.words('english') + list(punctuation))\n",
    "\n",
    "import matplotlib.pyplot as plt\n",
    "%matplotlib inline\n",
    "import seaborn as sns\n",
    "\n",
    "import numpy as np\n",
    "import pandas as pd\n",
    "df_comments = pd.read_csv('/content/drive/My Drive/Text/Text Analytics/Text data.csv')\n",
    "df_comments = df_comments.dropna().reset_index()\n",
    "\n",
    "models = pd.read_csv('/content/drive/My Drive/Text/Text Analytics/models.csv')\n",
    "models = models.drop_duplicates()\n",
    "\n",
    "# Dictionary to hold Brand and model values\n",
    "models_dict = pd.Series(models['Brand'].values, index=models['Model']).to_dict()"
   ]
  },
  {
   "cell_type": "code",
   "execution_count": 0,
   "metadata": {
    "colab": {},
    "colab_type": "code",
    "id": "eGy_1lfkRWJQ"
   },
   "outputs": [],
   "source": [
    "# Function to remove stopwords and replacing model names with brand names\n",
    "# This function will be applied to all comments in our data frame\n",
    "def filterComment(comment):\n",
    "  tokens = word_tokenize(comment)\n",
    "  no_stopwords = [w.lower() for w in tokens if w not in stop_words]\n",
    "  replace_model = [models_dict[x] if x in models_dict else x for x in no_stopwords]\n",
    "  return list(set(replace_model))"
   ]
  },
  {
   "cell_type": "code",
   "execution_count": 0,
   "metadata": {
    "colab": {},
    "colab_type": "code",
    "id": "yGmiMqKb_9lK"
   },
   "outputs": [],
   "source": [
    "# New column to hold the comments after removing stopwords amd replacing models with brand names\n",
    "df_comments['Filtered comments'] = df_comments['comment_'].map(filterComment)"
   ]
  },
  {
   "cell_type": "code",
   "execution_count": 9,
   "metadata": {
    "colab": {
     "base_uri": "https://localhost:8080/",
     "height": 202
    },
    "colab_type": "code",
    "executionInfo": {
     "elapsed": 289,
     "status": "ok",
     "timestamp": 1573261476556,
     "user": {
      "displayName": "Pooja Dawada",
      "photoUrl": "",
      "userId": "09599169313104029998"
     },
     "user_tz": 360
    },
    "id": "ZxJhENndS_fO",
    "outputId": "46764531-c8e4-4ed5-9247-8544c562ce6e"
   },
   "outputs": [
    {
     "data": {
      "text/html": [
       "<div>\n",
       "<style scoped>\n",
       "    .dataframe tbody tr th:only-of-type {\n",
       "        vertical-align: middle;\n",
       "    }\n",
       "\n",
       "    .dataframe tbody tr th {\n",
       "        vertical-align: top;\n",
       "    }\n",
       "\n",
       "    .dataframe thead th {\n",
       "        text-align: right;\n",
       "    }\n",
       "</style>\n",
       "<table border=\"1\" class=\"dataframe\">\n",
       "  <thead>\n",
       "    <tr style=\"text-align: right;\">\n",
       "      <th></th>\n",
       "      <th>index</th>\n",
       "      <th>Unnamed: 0</th>\n",
       "      <th>userid_</th>\n",
       "      <th>time_</th>\n",
       "      <th>comment_</th>\n",
       "      <th>Filtered comments</th>\n",
       "    </tr>\n",
       "  </thead>\n",
       "  <tbody>\n",
       "    <tr>\n",
       "      <th>0</th>\n",
       "      <td>0</td>\n",
       "      <td>0</td>\n",
       "      <td>motownusa</td>\n",
       "      <td>April 12, 2007 2:52AM</td>\n",
       "      <td>Hi Pat:\\n\\nYou forgot the Chrysler Sebring</td>\n",
       "      <td>[hi, pat, forgot, chrysler, you]</td>\n",
       "    </tr>\n",
       "    <tr>\n",
       "      <th>1</th>\n",
       "      <td>1</td>\n",
       "      <td>1</td>\n",
       "      <td>exshoman</td>\n",
       "      <td>April 12, 2007 3:33AM</td>\n",
       "      <td>I'm sure some folks would appreciate having th...</td>\n",
       "      <td>['m, i, included, appreciate, chevrolet, would...</td>\n",
       "    </tr>\n",
       "    <tr>\n",
       "      <th>2</th>\n",
       "      <td>2</td>\n",
       "      <td>2</td>\n",
       "      <td>targettuning</td>\n",
       "      <td>April 12, 2007 2:51PM</td>\n",
       "      <td>You can try to revive this topic but without b...</td>\n",
       "      <td>[discuss, try, specific, guilty, without, disc...</td>\n",
       "    </tr>\n",
       "    <tr>\n",
       "      <th>3</th>\n",
       "      <td>3</td>\n",
       "      <td>3</td>\n",
       "      <td>pat</td>\n",
       "      <td>April 12, 2007 4:43PM</td>\n",
       "      <td>Model vs. model is exactly what we're here for...</td>\n",
       "      <td>[occurring, 're, elsewhere, were/are, auto, di...</td>\n",
       "    </tr>\n",
       "    <tr>\n",
       "      <th>4</th>\n",
       "      <td>4</td>\n",
       "      <td>4</td>\n",
       "      <td>perna</td>\n",
       "      <td>April 13, 2007 7:49PM</td>\n",
       "      <td>The Altima is my favorite of the bunch. It is ...</td>\n",
       "      <td>[gadgets, 2007, handling, neat, honda, choice,...</td>\n",
       "    </tr>\n",
       "  </tbody>\n",
       "</table>\n",
       "</div>"
      ],
      "text/plain": [
       "   index  ...                                  Filtered comments\n",
       "0      0  ...                   [hi, pat, forgot, chrysler, you]\n",
       "1      1  ...  ['m, i, included, appreciate, chevrolet, would...\n",
       "2      2  ...  [discuss, try, specific, guilty, without, disc...\n",
       "3      3  ...  [occurring, 're, elsewhere, were/are, auto, di...\n",
       "4      4  ...  [gadgets, 2007, handling, neat, honda, choice,...\n",
       "\n",
       "[5 rows x 6 columns]"
      ]
     },
     "execution_count": 9,
     "metadata": {
      "tags": []
     },
     "output_type": "execute_result"
    }
   ],
   "source": [
    "df_comments.head()"
   ]
  },
  {
   "cell_type": "code",
   "execution_count": 0,
   "metadata": {
    "colab": {},
    "colab_type": "code",
    "id": "xfBuh5mI8utx"
   },
   "outputs": [],
   "source": [
    "# Getting the word counts from the user comments\n",
    "from collections import Counter\n",
    "s=df_comments['Filtered comments']\n",
    "text = s.apply(pd.Series).stack().reset_index(drop=True)\n",
    "word_counts = Counter(text)\n",
    "common_words = word_counts.most_common()\n",
    "\n",
    "all_brands = {}\n",
    "for word, count in common_words:\n",
    "  if word in models['Brand'].values:\n",
    "    all_brands[word] = count"
   ]
  },
  {
   "cell_type": "code",
   "execution_count": 11,
   "metadata": {
    "colab": {
     "base_uri": "https://localhost:8080/",
     "height": 451
    },
    "colab_type": "code",
    "executionInfo": {
     "elapsed": 271,
     "status": "ok",
     "timestamp": 1573261491513,
     "user": {
      "displayName": "Pooja Dawada",
      "photoUrl": "",
      "userId": "09599169313104029998"
     },
     "user_tz": 360
    },
    "id": "zCXfqBeeTGe8",
    "outputId": "9c397484-5f8b-4c04-fadf-77a771747e6f"
   },
   "outputs": [
    {
     "data": {
      "text/plain": [
       "{'acura': 73,\n",
       " 'audi': 43,\n",
       " 'bmw': 129,\n",
       " 'cadillac': 31,\n",
       " 'chevrolet': 316,\n",
       " 'chrysler': 266,\n",
       " 'dodge': 90,\n",
       " 'ford': 1409,\n",
       " 'honda': 2237,\n",
       " 'hyundai': 659,\n",
       " 'infiniti': 12,\n",
       " 'kia': 139,\n",
       " 'lincoln': 46,\n",
       " 'mazda': 606,\n",
       " 'mercedes': 30,\n",
       " 'mercury': 85,\n",
       " 'mitsubishi': 53,\n",
       " 'nissan': 601,\n",
       " 'pontiac': 83,\n",
       " 'saturn': 301,\n",
       " 'subaru': 166,\n",
       " 'suzuki': 9,\n",
       " 'toyota': 1103,\n",
       " 'volkswagen': 115,\n",
       " 'volvo': 29}"
      ]
     },
     "execution_count": 11,
     "metadata": {
      "tags": []
     },
     "output_type": "execute_result"
    }
   ],
   "source": [
    "all_brands"
   ]
  },
  {
   "cell_type": "code",
   "execution_count": 12,
   "metadata": {
    "colab": {
     "base_uri": "https://localhost:8080/",
     "height": 202
    },
    "colab_type": "code",
    "executionInfo": {
     "elapsed": 300,
     "status": "ok",
     "timestamp": 1573261498880,
     "user": {
      "displayName": "Pooja Dawada",
      "photoUrl": "",
      "userId": "09599169313104029998"
     },
     "user_tz": 360
    },
    "id": "25JqO1bsTqfD",
    "outputId": "02a6748e-2907-4e23-b7ba-585150b198ca"
   },
   "outputs": [
    {
     "data": {
      "text/html": [
       "<div>\n",
       "<style scoped>\n",
       "    .dataframe tbody tr th:only-of-type {\n",
       "        vertical-align: middle;\n",
       "    }\n",
       "\n",
       "    .dataframe tbody tr th {\n",
       "        vertical-align: top;\n",
       "    }\n",
       "\n",
       "    .dataframe thead th {\n",
       "        text-align: right;\n",
       "    }\n",
       "</style>\n",
       "<table border=\"1\" class=\"dataframe\">\n",
       "  <thead>\n",
       "    <tr style=\"text-align: right;\">\n",
       "      <th></th>\n",
       "      <th>Frequency</th>\n",
       "    </tr>\n",
       "  </thead>\n",
       "  <tbody>\n",
       "    <tr>\n",
       "      <th>honda</th>\n",
       "      <td>2237</td>\n",
       "    </tr>\n",
       "    <tr>\n",
       "      <th>ford</th>\n",
       "      <td>1409</td>\n",
       "    </tr>\n",
       "    <tr>\n",
       "      <th>toyota</th>\n",
       "      <td>1103</td>\n",
       "    </tr>\n",
       "    <tr>\n",
       "      <th>hyundai</th>\n",
       "      <td>659</td>\n",
       "    </tr>\n",
       "    <tr>\n",
       "      <th>mazda</th>\n",
       "      <td>606</td>\n",
       "    </tr>\n",
       "  </tbody>\n",
       "</table>\n",
       "</div>"
      ],
      "text/plain": [
       "         Frequency\n",
       "honda         2237\n",
       "ford          1409\n",
       "toyota        1103\n",
       "hyundai        659\n",
       "mazda          606"
      ]
     },
     "execution_count": 12,
     "metadata": {
      "tags": []
     },
     "output_type": "execute_result"
    }
   ],
   "source": [
    "brands_df = pd.DataFrame.from_dict(all_brands, orient='index', columns=['Frequency']).sort_values(by='Frequency', ascending=False)\n",
    "brands_df.head()"
   ]
  },
  {
   "cell_type": "code",
   "execution_count": 13,
   "metadata": {
    "colab": {
     "base_uri": "https://localhost:8080/",
     "height": 501
    },
    "colab_type": "code",
    "executionInfo": {
     "elapsed": 1321,
     "status": "ok",
     "timestamp": 1573261508504,
     "user": {
      "displayName": "Pooja Dawada",
      "photoUrl": "",
      "userId": "09599169313104029998"
     },
     "user_tz": 360
    },
    "id": "IO-tP548baWD",
    "outputId": "51db90cf-ac7f-476b-c712-430c531b2a9c"
   },
   "outputs": [
    {
     "data": {
      "text/plain": [
       "<matplotlib.axes._subplots.AxesSubplot at 0x7f968a02f5f8>"
      ]
     },
     "execution_count": 13,
     "metadata": {
      "tags": []
     },
     "output_type": "execute_result"
    },
    {
     "data": {
      "image/png": "[encoded data removed]",
      "text/plain": [
       "<Figure size 864x576 with 1 Axes>"
      ]
     },
     "metadata": {
      "tags": []
     },
     "output_type": "display_data"
    }
   ],
   "source": [
    "import seaborn as sns\n",
    "plt.figure(figsize = (12,8))\n",
    "top10 = brands_df[:10]\n",
    "sns.barplot(x=top10.index.values, y=top10['Frequency'], data=brands_df)"
   ]
  },
  {
   "cell_type": "code",
   "execution_count": 14,
   "metadata": {
    "colab": {
     "base_uri": "https://localhost:8080/",
     "height": 52
    },
    "colab_type": "code",
    "executionInfo": {
     "elapsed": 192,
     "status": "ok",
     "timestamp": 1573261512759,
     "user": {
      "displayName": "Pooja Dawada",
      "photoUrl": "",
      "userId": "09599169313104029998"
     },
     "user_tz": 360
    },
    "id": "mF6dr0KMAJkQ",
    "outputId": "e62ecec0-a0ad-45fd-e7b1-9619b781100f"
   },
   "outputs": [
    {
     "data": {
      "text/plain": [
       "array(['honda', 'ford', 'toyota', 'hyundai', 'mazda', 'nissan',\n",
       "       'chevrolet', 'saturn', 'chrysler', 'subaru'], dtype=object)"
      ]
     },
     "execution_count": 14,
     "metadata": {
      "tags": []
     },
     "output_type": "execute_result"
    }
   ],
   "source": [
    "top10_brands = top10.index.values\n",
    "top10_brands"
   ]
  },
  {
   "cell_type": "markdown",
   "metadata": {
    "colab_type": "text",
    "id": "0OJJwPqn_25Q"
   },
   "source": [
    "## LIFT"
   ]
  },
  {
   "cell_type": "code",
   "execution_count": 0,
   "metadata": {
    "colab": {},
    "colab_type": "code",
    "id": "CHoNWZTXJ9Hy"
   },
   "outputs": [],
   "source": [
    "# Creating a dummy column for each of the top10 brand\n",
    "for brand in top10_brands:\n",
    "  df_comments[brand] = df_comments['Filtered comments'].map(lambda x: 1 if brand in x else 0)"
   ]
  },
  {
   "cell_type": "code",
   "execution_count": 0,
   "metadata": {
    "colab": {},
    "colab_type": "code",
    "id": "NLLLepVEKblt"
   },
   "outputs": [],
   "source": [
    "# Creating the lift matrix\n",
    "lift_matrix = pd.DataFrame(index=top10_brands, columns=top10_brands)\n",
    "\n",
    "for brand1 in top10_brands:\n",
    "  freq_brand1 = sum(df_comments[brand1] == 1)\n",
    "  for brand2 in top10_brands:\n",
    "    if brand1 == brand2:\n",
    "      lift_matrix.loc[brand1, brand2] = 1\n",
    "    else:\n",
    "      freq_brand2 = sum(df_comments[brand2] == 1)\n",
    "      freq_both = sum( (df_comments[brand1] == 1) & (df_comments[brand2] == 1 ) )\n",
    "      lift = len(df_comments) * freq_both / (freq_brand1 * freq_brand2)\n",
    "      lift_matrix.loc[brand1, brand2] = lift"
   ]
  },
  {
   "cell_type": "code",
   "execution_count": 24,
   "metadata": {
    "colab": {
     "base_uri": "https://localhost:8080/",
     "height": 355
    },
    "colab_type": "code",
    "executionInfo": {
     "elapsed": 584,
     "status": "ok",
     "timestamp": 1573262067855,
     "user": {
      "displayName": "Pooja Dawada",
      "photoUrl": "",
      "userId": "09599169313104029998"
     },
     "user_tz": 360
    },
    "id": "GgNqCoC2uWvh",
    "outputId": "af7a4566-6206-4adb-e950-58a5edadcf60"
   },
   "outputs": [
    {
     "data": {
      "text/html": [
       "<div>\n",
       "<style scoped>\n",
       "    .dataframe tbody tr th:only-of-type {\n",
       "        vertical-align: middle;\n",
       "    }\n",
       "\n",
       "    .dataframe tbody tr th {\n",
       "        vertical-align: top;\n",
       "    }\n",
       "\n",
       "    .dataframe thead th {\n",
       "        text-align: right;\n",
       "    }\n",
       "</style>\n",
       "<table border=\"1\" class=\"dataframe\">\n",
       "  <thead>\n",
       "    <tr style=\"text-align: right;\">\n",
       "      <th></th>\n",
       "      <th>honda</th>\n",
       "      <th>ford</th>\n",
       "      <th>toyota</th>\n",
       "      <th>hyundai</th>\n",
       "      <th>mazda</th>\n",
       "      <th>nissan</th>\n",
       "      <th>chevrolet</th>\n",
       "      <th>saturn</th>\n",
       "      <th>chrysler</th>\n",
       "      <th>subaru</th>\n",
       "    </tr>\n",
       "  </thead>\n",
       "  <tbody>\n",
       "    <tr>\n",
       "      <th>honda</th>\n",
       "      <td>1</td>\n",
       "      <td>1.14146</td>\n",
       "      <td>1.67664</td>\n",
       "      <td>1.4665</td>\n",
       "      <td>1.13405</td>\n",
       "      <td>1.4373</td>\n",
       "      <td>1.30639</td>\n",
       "      <td>1.33978</td>\n",
       "      <td>1.36356</td>\n",
       "      <td>1.37999</td>\n",
       "    </tr>\n",
       "    <tr>\n",
       "      <th>ford</th>\n",
       "      <td>1.14146</td>\n",
       "      <td>1</td>\n",
       "      <td>1.35328</td>\n",
       "      <td>1.16127</td>\n",
       "      <td>1.22532</td>\n",
       "      <td>1.18509</td>\n",
       "      <td>1.35475</td>\n",
       "      <td>1.24605</td>\n",
       "      <td>1.28182</td>\n",
       "      <td>0.89007</td>\n",
       "    </tr>\n",
       "    <tr>\n",
       "      <th>toyota</th>\n",
       "      <td>1.67664</td>\n",
       "      <td>1.35328</td>\n",
       "      <td>1</td>\n",
       "      <td>1.84328</td>\n",
       "      <td>0.966309</td>\n",
       "      <td>2.1339</td>\n",
       "      <td>2.03689</td>\n",
       "      <td>2.20271</td>\n",
       "      <td>1.36453</td>\n",
       "      <td>1.19531</td>\n",
       "    </tr>\n",
       "    <tr>\n",
       "      <th>hyundai</th>\n",
       "      <td>1.4665</td>\n",
       "      <td>1.16127</td>\n",
       "      <td>1.84328</td>\n",
       "      <td>1</td>\n",
       "      <td>1.17626</td>\n",
       "      <td>1.64429</td>\n",
       "      <td>1.74307</td>\n",
       "      <td>1.72229</td>\n",
       "      <td>1.52258</td>\n",
       "      <td>2.00064</td>\n",
       "    </tr>\n",
       "    <tr>\n",
       "      <th>mazda</th>\n",
       "      <td>1.13405</td>\n",
       "      <td>1.22532</td>\n",
       "      <td>0.966309</td>\n",
       "      <td>1.17626</td>\n",
       "      <td>1</td>\n",
       "      <td>1.46565</td>\n",
       "      <td>0.975634</td>\n",
       "      <td>1.08278</td>\n",
       "      <td>0.728529</td>\n",
       "      <td>3.28995</td>\n",
       "    </tr>\n",
       "    <tr>\n",
       "      <th>nissan</th>\n",
       "      <td>1.4373</td>\n",
       "      <td>1.18509</td>\n",
       "      <td>2.1339</td>\n",
       "      <td>1.64429</td>\n",
       "      <td>1.46565</td>\n",
       "      <td>1</td>\n",
       "      <td>1.88318</td>\n",
       "      <td>2.56718</td>\n",
       "      <td>1.0351</td>\n",
       "      <td>1.97969</td>\n",
       "    </tr>\n",
       "    <tr>\n",
       "      <th>chevrolet</th>\n",
       "      <td>1.30639</td>\n",
       "      <td>1.35475</td>\n",
       "      <td>2.03689</td>\n",
       "      <td>1.74307</td>\n",
       "      <td>0.975634</td>\n",
       "      <td>1.88318</td>\n",
       "      <td>1</td>\n",
       "      <td>5.05089</td>\n",
       "      <td>2.03217</td>\n",
       "      <td>1.3229</td>\n",
       "    </tr>\n",
       "    <tr>\n",
       "      <th>saturn</th>\n",
       "      <td>1.33978</td>\n",
       "      <td>1.24605</td>\n",
       "      <td>2.20271</td>\n",
       "      <td>1.72229</td>\n",
       "      <td>1.08278</td>\n",
       "      <td>2.56718</td>\n",
       "      <td>5.05089</td>\n",
       "      <td>1</td>\n",
       "      <td>1.20006</td>\n",
       "      <td>1.60249</td>\n",
       "    </tr>\n",
       "    <tr>\n",
       "      <th>chrysler</th>\n",
       "      <td>1.36356</td>\n",
       "      <td>1.28182</td>\n",
       "      <td>1.36453</td>\n",
       "      <td>1.52258</td>\n",
       "      <td>0.728529</td>\n",
       "      <td>1.0351</td>\n",
       "      <td>2.03217</td>\n",
       "      <td>1.20006</td>\n",
       "      <td>1</td>\n",
       "      <td>0.846227</td>\n",
       "    </tr>\n",
       "    <tr>\n",
       "      <th>subaru</th>\n",
       "      <td>1.37999</td>\n",
       "      <td>0.89007</td>\n",
       "      <td>1.19531</td>\n",
       "      <td>2.00064</td>\n",
       "      <td>3.28995</td>\n",
       "      <td>1.97969</td>\n",
       "      <td>1.3229</td>\n",
       "      <td>1.60249</td>\n",
       "      <td>0.846227</td>\n",
       "      <td>1</td>\n",
       "    </tr>\n",
       "  </tbody>\n",
       "</table>\n",
       "</div>"
      ],
      "text/plain": [
       "             honda     ford    toyota  ...   saturn  chrysler    subaru\n",
       "honda            1  1.14146   1.67664  ...  1.33978   1.36356   1.37999\n",
       "ford       1.14146        1   1.35328  ...  1.24605   1.28182   0.89007\n",
       "toyota     1.67664  1.35328         1  ...  2.20271   1.36453   1.19531\n",
       "hyundai     1.4665  1.16127   1.84328  ...  1.72229   1.52258   2.00064\n",
       "mazda      1.13405  1.22532  0.966309  ...  1.08278  0.728529   3.28995\n",
       "nissan      1.4373  1.18509    2.1339  ...  2.56718    1.0351   1.97969\n",
       "chevrolet  1.30639  1.35475   2.03689  ...  5.05089   2.03217    1.3229\n",
       "saturn     1.33978  1.24605   2.20271  ...        1   1.20006   1.60249\n",
       "chrysler   1.36356  1.28182   1.36453  ...  1.20006         1  0.846227\n",
       "subaru     1.37999  0.89007   1.19531  ...  1.60249  0.846227         1\n",
       "\n",
       "[10 rows x 10 columns]"
      ]
     },
     "execution_count": 24,
     "metadata": {
      "tags": []
     },
     "output_type": "execute_result"
    }
   ],
   "source": [
    "lift_matrix"
   ]
  },
  {
   "cell_type": "code",
   "execution_count": 25,
   "metadata": {
    "colab": {
     "base_uri": "https://localhost:8080/",
     "height": 523
    },
    "colab_type": "code",
    "executionInfo": {
     "elapsed": 1220,
     "status": "ok",
     "timestamp": 1573262076748,
     "user": {
      "displayName": "Pooja Dawada",
      "photoUrl": "",
      "userId": "09599169313104029998"
     },
     "user_tz": 360
    },
    "id": "k3LiQURUU2mp",
    "outputId": "51f4a6e0-e0d7-4564-a149-6850992a420f"
   },
   "outputs": [
    {
     "data": {
      "text/plain": [
       "<matplotlib.axes._subplots.AxesSubplot at 0x7f964ef006d8>"
      ]
     },
     "execution_count": 25,
     "metadata": {
      "tags": []
     },
     "output_type": "execute_result"
    },
    {
     "data": {
      "image/png": "[encoded data removed]",
      "text/plain": [
       "<Figure size 842.4x595.44 with 2 Axes>"
      ]
     },
     "metadata": {
      "tags": []
     },
     "output_type": "display_data"
    }
   ],
   "source": [
    "lift_matrix = lift_matrix.fillna(0)\n",
    "sns.set(rc={'figure.figsize':(11.7,8.27)})\n",
    "sns.heatmap(lift_matrix, annot=True)\n"
   ]
  },
  {
   "cell_type": "markdown",
   "metadata": {
    "colab_type": "text",
    "id": "NekX4OeIxpeT"
   },
   "source": [
    "The lift values of Chevrolet and Saturn are very high. So probably they are each other's biggest competitors and have very similar cars in the midsize sedans category. Both these companies can leverage this and being mentioned with the other brand would be helpful in promoting the brand."
   ]
  },
  {
   "cell_type": "markdown",
   "metadata": {
    "colab_type": "text",
    "id": "nXBKw4zJbLnA"
   },
   "source": [
    "## MDS plot"
   ]
  },
  {
   "cell_type": "code",
   "execution_count": 0,
   "metadata": {
    "colab": {
     "base_uri": "https://localhost:8080/",
     "height": 362
    },
    "colab_type": "code",
    "executionInfo": {
     "elapsed": 12489,
     "status": "ok",
     "timestamp": 1573250632394,
     "user": {
      "displayName": "Anshika Ahuja",
      "photoUrl": "",
      "userId": "15378155533742919869"
     },
     "user_tz": 360
    },
    "id": "lyjaFgZ1LSQk",
    "outputId": "4a443a22-bf02-45b6-db6b-1149930d3dc0"
   },
   "outputs": [
    {
     "data": {
      "image/png": "[encoded data removed]",
      "text/plain": [
       "<Figure size 576x432 with 1 Axes>"
      ]
     },
     "metadata": {
      "tags": []
     },
     "output_type": "display_data"
    }
   ],
   "source": [
    "# Dissmilarity matrix\n",
    "dissimilarity_mtx = 1/lift_matrix\n",
    "np.fill_diagonal(dissimilarity_mtx.values, 0)\n",
    "\n",
    "from sklearn import manifold\n",
    "from sklearn.manifold import MDS\n",
    "mds=manifold.MDS(n_components=2, dissimilarity ='precomputed', random_state=10)\n",
    "results=mds.fit(dissimilarity_mtx)\n",
    "coordinates=results.embedding_\n",
    "\n",
    "x = coordinates[:,0]\n",
    "y = coordinates[:,1]\n",
    "\n",
    "plt.figure(figsize=(8,6))\n",
    "plt.scatter(x,y, marker='o', color='red', s=75)\n",
    "\n",
    "for brand, x_coord, y_coord in zip(list(top10_brands), x, y):\n",
    "  plt.annotate(s=brand, \n",
    "               xy=(x_coord,y_coord),\n",
    "               xytext = (10, 10),\n",
    "               textcoords = 'offset points', \n",
    "               ha = 'right', \n",
    "               va = 'bottom',\n",
    "               bbox = dict(boxstyle = 'round,pad=0.5', fc = 'green', alpha = 0.2),\n",
    "               arrowprops = dict(arrowstyle = 'simple', connectionstyle = 'arc3,rad=0'))\n",
    "\n",
    "plt.xticks([])\n",
    "plt.yticks([])\n",
    "plt.show()"
   ]
  },
  {
   "cell_type": "code",
   "execution_count": 0,
   "metadata": {
    "colab": {
     "base_uri": "https://localhost:8080/",
     "height": 382
    },
    "colab_type": "code",
    "executionInfo": {
     "elapsed": 12473,
     "status": "ok",
     "timestamp": 1573250632397,
     "user": {
      "displayName": "Anshika Ahuja",
      "photoUrl": "",
      "userId": "15378155533742919869"
     },
     "user_tz": 360
    },
    "id": "9akrTS-6S9rh",
    "outputId": "78977b96-cf0a-4c64-e184-2b97eb89fcad"
   },
   "outputs": [
    {
     "data": {
      "text/html": [
       "<div>\n",
       "<style scoped>\n",
       "    .dataframe tbody tr th:only-of-type {\n",
       "        vertical-align: middle;\n",
       "    }\n",
       "\n",
       "    .dataframe tbody tr th {\n",
       "        vertical-align: top;\n",
       "    }\n",
       "\n",
       "    .dataframe thead th {\n",
       "        text-align: right;\n",
       "    }\n",
       "</style>\n",
       "<table border=\"1\" class=\"dataframe\">\n",
       "  <thead>\n",
       "    <tr style=\"text-align: right;\">\n",
       "      <th></th>\n",
       "      <th>honda</th>\n",
       "      <th>ford</th>\n",
       "      <th>toyota</th>\n",
       "      <th>hyundai</th>\n",
       "      <th>mazda</th>\n",
       "      <th>nissan</th>\n",
       "      <th>chevrolet</th>\n",
       "      <th>saturn</th>\n",
       "      <th>chrysler</th>\n",
       "      <th>subaru</th>\n",
       "    </tr>\n",
       "  </thead>\n",
       "  <tbody>\n",
       "    <tr>\n",
       "      <th>honda</th>\n",
       "      <td>0</td>\n",
       "      <td>0.876069</td>\n",
       "      <td>0.596432</td>\n",
       "      <td>0.681895</td>\n",
       "      <td>0.881795</td>\n",
       "      <td>0.69575</td>\n",
       "      <td>0.76547</td>\n",
       "      <td>0.746392</td>\n",
       "      <td>0.733374</td>\n",
       "      <td>0.724643</td>\n",
       "    </tr>\n",
       "    <tr>\n",
       "      <th>ford</th>\n",
       "      <td>0.876069</td>\n",
       "      <td>0</td>\n",
       "      <td>0.738944</td>\n",
       "      <td>0.861126</td>\n",
       "      <td>0.816111</td>\n",
       "      <td>0.843819</td>\n",
       "      <td>0.738144</td>\n",
       "      <td>0.802535</td>\n",
       "      <td>0.780138</td>\n",
       "      <td>1.12351</td>\n",
       "    </tr>\n",
       "    <tr>\n",
       "      <th>toyota</th>\n",
       "      <td>0.596432</td>\n",
       "      <td>0.738944</td>\n",
       "      <td>0</td>\n",
       "      <td>0.542511</td>\n",
       "      <td>1.03487</td>\n",
       "      <td>0.468625</td>\n",
       "      <td>0.490944</td>\n",
       "      <td>0.453986</td>\n",
       "      <td>0.732854</td>\n",
       "      <td>0.836606</td>\n",
       "    </tr>\n",
       "    <tr>\n",
       "      <th>hyundai</th>\n",
       "      <td>0.681895</td>\n",
       "      <td>0.861126</td>\n",
       "      <td>0.542511</td>\n",
       "      <td>0</td>\n",
       "      <td>0.850152</td>\n",
       "      <td>0.608165</td>\n",
       "      <td>0.5737</td>\n",
       "      <td>0.580622</td>\n",
       "      <td>0.656778</td>\n",
       "      <td>0.49984</td>\n",
       "    </tr>\n",
       "    <tr>\n",
       "      <th>mazda</th>\n",
       "      <td>0.881795</td>\n",
       "      <td>0.816111</td>\n",
       "      <td>1.03487</td>\n",
       "      <td>0.850152</td>\n",
       "      <td>0</td>\n",
       "      <td>0.682289</td>\n",
       "      <td>1.02497</td>\n",
       "      <td>0.923547</td>\n",
       "      <td>1.37263</td>\n",
       "      <td>0.303956</td>\n",
       "    </tr>\n",
       "    <tr>\n",
       "      <th>nissan</th>\n",
       "      <td>0.69575</td>\n",
       "      <td>0.843819</td>\n",
       "      <td>0.468625</td>\n",
       "      <td>0.608165</td>\n",
       "      <td>0.682289</td>\n",
       "      <td>0</td>\n",
       "      <td>0.531017</td>\n",
       "      <td>0.389532</td>\n",
       "      <td>0.966086</td>\n",
       "      <td>0.505129</td>\n",
       "    </tr>\n",
       "    <tr>\n",
       "      <th>chevrolet</th>\n",
       "      <td>0.76547</td>\n",
       "      <td>0.738144</td>\n",
       "      <td>0.490944</td>\n",
       "      <td>0.5737</td>\n",
       "      <td>1.02497</td>\n",
       "      <td>0.531017</td>\n",
       "      <td>0</td>\n",
       "      <td>0.197985</td>\n",
       "      <td>0.492085</td>\n",
       "      <td>0.755915</td>\n",
       "    </tr>\n",
       "    <tr>\n",
       "      <th>saturn</th>\n",
       "      <td>0.746392</td>\n",
       "      <td>0.802535</td>\n",
       "      <td>0.453986</td>\n",
       "      <td>0.580622</td>\n",
       "      <td>0.923547</td>\n",
       "      <td>0.389532</td>\n",
       "      <td>0.197985</td>\n",
       "      <td>0</td>\n",
       "      <td>0.833292</td>\n",
       "      <td>0.624029</td>\n",
       "    </tr>\n",
       "    <tr>\n",
       "      <th>chrysler</th>\n",
       "      <td>0.733374</td>\n",
       "      <td>0.780138</td>\n",
       "      <td>0.732854</td>\n",
       "      <td>0.656778</td>\n",
       "      <td>1.37263</td>\n",
       "      <td>0.966086</td>\n",
       "      <td>0.492085</td>\n",
       "      <td>0.833292</td>\n",
       "      <td>0</td>\n",
       "      <td>1.18172</td>\n",
       "    </tr>\n",
       "    <tr>\n",
       "      <th>subaru</th>\n",
       "      <td>0.724643</td>\n",
       "      <td>1.12351</td>\n",
       "      <td>0.836606</td>\n",
       "      <td>0.49984</td>\n",
       "      <td>0.303956</td>\n",
       "      <td>0.505129</td>\n",
       "      <td>0.755915</td>\n",
       "      <td>0.624029</td>\n",
       "      <td>1.18172</td>\n",
       "      <td>0</td>\n",
       "    </tr>\n",
       "  </tbody>\n",
       "</table>\n",
       "</div>"
      ],
      "text/plain": [
       "              honda      ford    toyota  ...    saturn  chrysler    subaru\n",
       "honda             0  0.876069  0.596432  ...  0.746392  0.733374  0.724643\n",
       "ford       0.876069         0  0.738944  ...  0.802535  0.780138   1.12351\n",
       "toyota     0.596432  0.738944         0  ...  0.453986  0.732854  0.836606\n",
       "hyundai    0.681895  0.861126  0.542511  ...  0.580622  0.656778   0.49984\n",
       "mazda      0.881795  0.816111   1.03487  ...  0.923547   1.37263  0.303956\n",
       "nissan      0.69575  0.843819  0.468625  ...  0.389532  0.966086  0.505129\n",
       "chevrolet   0.76547  0.738144  0.490944  ...  0.197985  0.492085  0.755915\n",
       "saturn     0.746392  0.802535  0.453986  ...         0  0.833292  0.624029\n",
       "chrysler   0.733374  0.780138  0.732854  ...  0.833292         0   1.18172\n",
       "subaru     0.724643   1.12351  0.836606  ...  0.624029   1.18172         0\n",
       "\n",
       "[10 rows x 10 columns]"
      ]
     },
     "execution_count": 16,
     "metadata": {
      "tags": []
     },
     "output_type": "execute_result"
    }
   ],
   "source": [
    "dissimilarity_mtx"
   ]
  },
  {
   "cell_type": "markdown",
   "metadata": {
    "colab_type": "text",
    "id": "Fq-OPJQM4hQC"
   },
   "source": [
    "# TASK B: Advice to managers"
   ]
  },
  {
   "cell_type": "markdown",
   "metadata": {
    "colab_type": "text",
    "id": "1n1c8yokRKLr"
   },
   "source": [
    "What we could find from the analysis is that Asian brands dominate the midsize Sedan market in the US. FORD is the only US brand in the top 5, which means there are some attributes that stand out for Ford compared to rest of US brands. In the MDS plot above, FORD seems to have a place of its own, which provides evidence to our findings. \n",
    "\n",
    "Our recommendation to FORD Management:\n",
    "We are not finding the above trend carried over to the aspiration score. FORD is being talked about a lot, so it is worth investigating the associated customer sentiments and preferences. With proper marketing and branding of DISTINCT features, FORD can challenge for the top spot.\n"
   ]
  },
  {
   "cell_type": "markdown",
   "metadata": {
    "colab_type": "text",
    "id": "-B8b8vpt4EBL"
   },
   "source": [
    "#TASK C: Attributes"
   ]
  },
  {
   "cell_type": "markdown",
   "metadata": {
    "colab_type": "text",
    "id": "LbkqoSLOGo9Y"
   },
   "source": [
    "## Attribute Mapping"
   ]
  },
  {
   "cell_type": "code",
   "execution_count": 0,
   "metadata": {
    "colab": {},
    "colab_type": "code",
    "id": "b9pwrD-e_OgW"
   },
   "outputs": [],
   "source": [
    "attributes = pd.read_csv('/content/drive/My Drive/Text/Text Analytics/2019-11-02 Attribute word list v1 MA.csv', usecols = [0,1], header=None, names=['Word','Attribute'])\n",
    "attributes = attributes.drop_duplicates()"
   ]
  },
  {
   "cell_type": "code",
   "execution_count": 0,
   "metadata": {
    "colab": {},
    "colab_type": "code",
    "id": "PypnDcsQI6BU"
   },
   "outputs": [],
   "source": [
    "attr_dict = pd.Series(attributes['Attribute'].values, index=attributes['Word']).to_dict()"
   ]
  },
  {
   "cell_type": "code",
   "execution_count": 0,
   "metadata": {
    "colab": {},
    "colab_type": "code",
    "id": "-Or8XkFqJ5nG"
   },
   "outputs": [],
   "source": [
    "def attr_replace(comment):\n",
    "  attr_text = [attr_dict[x] if x in attr_dict  else x for x in comment]\n",
    "  return list(set(attr_text))"
   ]
  },
  {
   "cell_type": "code",
   "execution_count": 0,
   "metadata": {
    "colab": {},
    "colab_type": "code",
    "id": "69p1TZZbMEDY"
   },
   "outputs": [],
   "source": [
    "df_comments['attr_comments'] = df_comments['Filtered comments'].map(attr_replace)"
   ]
  },
  {
   "cell_type": "code",
   "execution_count": 0,
   "metadata": {
    "colab": {},
    "colab_type": "code",
    "id": "twQ3DNuiMv1E"
   },
   "outputs": [],
   "source": [
    "# Getting the attr counts from the user comments\n",
    "from collections import Counter\n",
    "s=df_comments['attr_comments']\n",
    "text = s.apply(pd.Series).stack().reset_index(drop=True)\n",
    "word_counts = Counter(text)\n",
    "common_words = word_counts.most_common()\n",
    "\n",
    "all_attributes = {}\n",
    "for word, count in common_words:\n",
    "  if word in attributes['Attribute'].values:\n",
    "    all_attributes[word] = count"
   ]
  },
  {
   "cell_type": "code",
   "execution_count": 0,
   "metadata": {
    "colab": {},
    "colab_type": "code",
    "id": "iQuvV205Ntpw"
   },
   "outputs": [],
   "source": [
    "attr_df = pd.DataFrame.from_dict(all_attributes, orient='index', columns=['Frequency']).sort_values(by='Frequency', ascending=False)\n"
   ]
  },
  {
   "cell_type": "code",
   "execution_count": 34,
   "metadata": {
    "colab": {
     "base_uri": "https://localhost:8080/",
     "height": 355
    },
    "colab_type": "code",
    "executionInfo": {
     "elapsed": 238,
     "status": "ok",
     "timestamp": 1573262269975,
     "user": {
      "displayName": "Pooja Dawada",
      "photoUrl": "",
      "userId": "09599169313104029998"
     },
     "user_tz": 360
    },
    "id": "MacQtLHvOH22",
    "outputId": "8e87dfe8-c877-417a-e565-732829cbc79d"
   },
   "outputs": [
    {
     "data": {
      "text/html": [
       "<div>\n",
       "<style scoped>\n",
       "    .dataframe tbody tr th:only-of-type {\n",
       "        vertical-align: middle;\n",
       "    }\n",
       "\n",
       "    .dataframe tbody tr th {\n",
       "        vertical-align: top;\n",
       "    }\n",
       "\n",
       "    .dataframe thead th {\n",
       "        text-align: right;\n",
       "    }\n",
       "</style>\n",
       "<table border=\"1\" class=\"dataframe\">\n",
       "  <thead>\n",
       "    <tr style=\"text-align: right;\">\n",
       "      <th></th>\n",
       "      <th>Frequency</th>\n",
       "    </tr>\n",
       "  </thead>\n",
       "  <tbody>\n",
       "    <tr>\n",
       "      <th>Design</th>\n",
       "      <td>3899</td>\n",
       "    </tr>\n",
       "    <tr>\n",
       "      <th>Engine</th>\n",
       "      <td>2562</td>\n",
       "    </tr>\n",
       "    <tr>\n",
       "      <th>Pricing</th>\n",
       "      <td>2552</td>\n",
       "    </tr>\n",
       "    <tr>\n",
       "      <th>Year</th>\n",
       "      <td>1283</td>\n",
       "    </tr>\n",
       "    <tr>\n",
       "      <th>Models</th>\n",
       "      <td>1119</td>\n",
       "    </tr>\n",
       "    <tr>\n",
       "      <th>Manufacturer</th>\n",
       "      <td>1032</td>\n",
       "    </tr>\n",
       "    <tr>\n",
       "      <th>Rankings/Rating/Reviews</th>\n",
       "      <td>771</td>\n",
       "    </tr>\n",
       "    <tr>\n",
       "      <th>Safety</th>\n",
       "      <td>355</td>\n",
       "    </tr>\n",
       "    <tr>\n",
       "      <th>Efficiency</th>\n",
       "      <td>159</td>\n",
       "    </tr>\n",
       "    <tr>\n",
       "      <th>Pickup</th>\n",
       "      <td>34</td>\n",
       "    </tr>\n",
       "  </tbody>\n",
       "</table>\n",
       "</div>"
      ],
      "text/plain": [
       "                         Frequency\n",
       "Design                        3899\n",
       "Engine                        2562\n",
       "Pricing                       2552\n",
       "Year                          1283\n",
       "Models                        1119\n",
       "Manufacturer                  1032\n",
       "Rankings/Rating/Reviews        771\n",
       "Safety                         355\n",
       "Efficiency                     159\n",
       "Pickup                          34"
      ]
     },
     "execution_count": 34,
     "metadata": {
      "tags": []
     },
     "output_type": "execute_result"
    }
   ],
   "source": [
    "attr_df"
   ]
  },
  {
   "cell_type": "markdown",
   "metadata": {
    "colab_type": "text",
    "id": "Sf4az7BNr_sn"
   },
   "source": [
    "##Attribute Associations"
   ]
  },
  {
   "cell_type": "code",
   "execution_count": 0,
   "metadata": {
    "colab": {},
    "colab_type": "code",
    "id": "mLIGV--MVQr_"
   },
   "outputs": [],
   "source": [
    "# Creating a dummy column for each of the top10 brand\n",
    "for brand in top10_brands:\n",
    "  df_comments[brand] = df_comments['Filtered comments'].map(lambda x: 1 if brand in x else 0)"
   ]
  },
  {
   "cell_type": "code",
   "execution_count": 0,
   "metadata": {
    "colab": {},
    "colab_type": "code",
    "id": "rGrc5OaTVrAP"
   },
   "outputs": [],
   "source": [
    "attr = attr_df[:10]"
   ]
  },
  {
   "cell_type": "code",
   "execution_count": 37,
   "metadata": {
    "colab": {
     "base_uri": "https://localhost:8080/",
     "height": 69
    },
    "colab_type": "code",
    "executionInfo": {
     "elapsed": 350,
     "status": "ok",
     "timestamp": 1573262288516,
     "user": {
      "displayName": "Pooja Dawada",
      "photoUrl": "",
      "userId": "09599169313104029998"
     },
     "user_tz": 360
    },
    "id": "ksKJTEUjV8_9",
    "outputId": "6aa4d999-eaf2-4721-bb60-db297c3b59df"
   },
   "outputs": [
    {
     "data": {
      "text/plain": [
       "array(['Design', 'Engine', 'Pricing', 'Year', 'Models', 'Manufacturer',\n",
       "       'Rankings/Rating/Reviews', 'Safety', 'Efficiency', 'Pickup'],\n",
       "      dtype=object)"
      ]
     },
     "execution_count": 37,
     "metadata": {
      "tags": []
     },
     "output_type": "execute_result"
    }
   ],
   "source": [
    "top10_attr = attr.index.values\n",
    "top10_attr"
   ]
  },
  {
   "cell_type": "code",
   "execution_count": 0,
   "metadata": {
    "colab": {},
    "colab_type": "code",
    "id": "8z_YXf9OYwoU"
   },
   "outputs": [],
   "source": [
    "for attr in top10_attr:\n",
    "    df_comments[attr] = df_comments['attr_comments'].map(lambda x: 1 if attr in x else 0)"
   ]
  },
  {
   "cell_type": "code",
   "execution_count": 0,
   "metadata": {
    "colab": {},
    "colab_type": "code",
    "id": "EExzYKWJap7O"
   },
   "outputs": [],
   "source": [
    "# Creating the lift matrix\n",
    "attr_matrix = pd.DataFrame(index=top10_brands, columns=top10_attr)\n",
    "\n",
    "for brand in top10_brands:\n",
    "  freq_brand = sum(df_comments[brand] == 1)\n",
    "  for attr in top10_attr:\n",
    "    freq_attr = sum(df_comments[attr] == 1)\n",
    "    freq_both = sum( (df_comments[brand] == 1) & (df_comments[attr] == 1 ) )\n",
    "    lift = len(df_comments) * freq_both / (freq_brand * freq_attr)\n",
    "    attr_matrix.loc[brand, attr] = lift"
   ]
  },
  {
   "cell_type": "code",
   "execution_count": 40,
   "metadata": {
    "colab": {
     "base_uri": "https://localhost:8080/",
     "height": 355
    },
    "colab_type": "code",
    "executionInfo": {
     "elapsed": 649,
     "status": "ok",
     "timestamp": 1573262302329,
     "user": {
      "displayName": "Pooja Dawada",
      "photoUrl": "",
      "userId": "09599169313104029998"
     },
     "user_tz": 360
    },
    "id": "CUPtv8ibovhc",
    "outputId": "015a1d7e-0fa1-4ed2-c91b-8f11cdfb3488"
   },
   "outputs": [
    {
     "data": {
      "text/html": [
       "<div>\n",
       "<style scoped>\n",
       "    .dataframe tbody tr th:only-of-type {\n",
       "        vertical-align: middle;\n",
       "    }\n",
       "\n",
       "    .dataframe tbody tr th {\n",
       "        vertical-align: top;\n",
       "    }\n",
       "\n",
       "    .dataframe thead th {\n",
       "        text-align: right;\n",
       "    }\n",
       "</style>\n",
       "<table border=\"1\" class=\"dataframe\">\n",
       "  <thead>\n",
       "    <tr style=\"text-align: right;\">\n",
       "      <th></th>\n",
       "      <th>Design</th>\n",
       "      <th>Engine</th>\n",
       "      <th>Pricing</th>\n",
       "      <th>Year</th>\n",
       "      <th>Models</th>\n",
       "      <th>Manufacturer</th>\n",
       "      <th>Rankings/Rating/Reviews</th>\n",
       "      <th>Safety</th>\n",
       "      <th>Efficiency</th>\n",
       "      <th>Pickup</th>\n",
       "    </tr>\n",
       "  </thead>\n",
       "  <tbody>\n",
       "    <tr>\n",
       "      <th>honda</th>\n",
       "      <td>1.11019</td>\n",
       "      <td>1.13258</td>\n",
       "      <td>1.22304</td>\n",
       "      <td>1.35028</td>\n",
       "      <td>1.34132</td>\n",
       "      <td>1.23011</td>\n",
       "      <td>1.14514</td>\n",
       "      <td>1.13598</td>\n",
       "      <td>0.960496</td>\n",
       "      <td>1.40367</td>\n",
       "    </tr>\n",
       "    <tr>\n",
       "      <th>ford</th>\n",
       "      <td>1.07174</td>\n",
       "      <td>1.21108</td>\n",
       "      <td>1.14902</td>\n",
       "      <td>1.26382</td>\n",
       "      <td>1.25945</td>\n",
       "      <td>1.10498</td>\n",
       "      <td>1.37585</td>\n",
       "      <td>0.800388</td>\n",
       "      <td>1.16753</td>\n",
       "      <td>1.22569</td>\n",
       "    </tr>\n",
       "    <tr>\n",
       "      <th>toyota</th>\n",
       "      <td>1.12207</td>\n",
       "      <td>1.15982</td>\n",
       "      <td>1.24781</td>\n",
       "      <td>1.2146</td>\n",
       "      <td>1.68237</td>\n",
       "      <td>1.18175</td>\n",
       "      <td>1.80148</td>\n",
       "      <td>0.749786</td>\n",
       "      <td>0.943556</td>\n",
       "      <td>1.56573</td>\n",
       "    </tr>\n",
       "    <tr>\n",
       "      <th>hyundai</th>\n",
       "      <td>1.126</td>\n",
       "      <td>1.03702</td>\n",
       "      <td>1.21883</td>\n",
       "      <td>1.50891</td>\n",
       "      <td>1.4767</td>\n",
       "      <td>1.35787</td>\n",
       "      <td>1.42882</td>\n",
       "      <td>0.889876</td>\n",
       "      <td>0.713221</td>\n",
       "      <td>0.952959</td>\n",
       "    </tr>\n",
       "    <tr>\n",
       "      <th>mazda</th>\n",
       "      <td>1.19511</td>\n",
       "      <td>1.18617</td>\n",
       "      <td>1.19427</td>\n",
       "      <td>1.45551</td>\n",
       "      <td>1.35396</td>\n",
       "      <td>1.30592</td>\n",
       "      <td>0.856866</td>\n",
       "      <td>1.26546</td>\n",
       "      <td>0.830998</td>\n",
       "      <td>2.59076</td>\n",
       "    </tr>\n",
       "    <tr>\n",
       "      <th>nissan</th>\n",
       "      <td>1.1481</td>\n",
       "      <td>1.1995</td>\n",
       "      <td>1.12067</td>\n",
       "      <td>1.29455</td>\n",
       "      <td>1.49222</td>\n",
       "      <td>1.02417</td>\n",
       "      <td>1.38239</td>\n",
       "      <td>1.22595</td>\n",
       "      <td>0.949633</td>\n",
       "      <td>1.30616</td>\n",
       "    </tr>\n",
       "    <tr>\n",
       "      <th>chevrolet</th>\n",
       "      <td>1.17411</td>\n",
       "      <td>1.16045</td>\n",
       "      <td>1.31062</td>\n",
       "      <td>1.60629</td>\n",
       "      <td>1.67565</td>\n",
       "      <td>1.45681</td>\n",
       "      <td>2.32243</td>\n",
       "      <td>1.42753</td>\n",
       "      <td>1.69986</td>\n",
       "      <td>2.48418</td>\n",
       "    </tr>\n",
       "    <tr>\n",
       "      <th>saturn</th>\n",
       "      <td>1.10526</td>\n",
       "      <td>1.1629</td>\n",
       "      <td>1.16051</td>\n",
       "      <td>1.40989</td>\n",
       "      <td>1.50559</td>\n",
       "      <td>1.25446</td>\n",
       "      <td>1.56411</td>\n",
       "      <td>0.999111</td>\n",
       "      <td>1.2269</td>\n",
       "      <td>0.521595</td>\n",
       "    </tr>\n",
       "    <tr>\n",
       "      <th>chrysler</th>\n",
       "      <td>1.13746</td>\n",
       "      <td>1.17492</td>\n",
       "      <td>1.38398</td>\n",
       "      <td>1.62669</td>\n",
       "      <td>1.39882</td>\n",
       "      <td>1.63341</td>\n",
       "      <td>1.19729</td>\n",
       "      <td>1.1871</td>\n",
       "      <td>1.76696</td>\n",
       "      <td>0</td>\n",
       "    </tr>\n",
       "    <tr>\n",
       "      <th>subaru</th>\n",
       "      <td>1.18763</td>\n",
       "      <td>1.33045</td>\n",
       "      <td>1.12145</td>\n",
       "      <td>1.20305</td>\n",
       "      <td>1.43685</td>\n",
       "      <td>1.12174</td>\n",
       "      <td>0.917569</td>\n",
       "      <td>1.17757</td>\n",
       "      <td>1.61794</td>\n",
       "      <td>0</td>\n",
       "    </tr>\n",
       "  </tbody>\n",
       "</table>\n",
       "</div>"
      ],
      "text/plain": [
       "            Design   Engine  Pricing  ...    Safety Efficiency    Pickup\n",
       "honda      1.11019  1.13258  1.22304  ...   1.13598   0.960496   1.40367\n",
       "ford       1.07174  1.21108  1.14902  ...  0.800388    1.16753   1.22569\n",
       "toyota     1.12207  1.15982  1.24781  ...  0.749786   0.943556   1.56573\n",
       "hyundai      1.126  1.03702  1.21883  ...  0.889876   0.713221  0.952959\n",
       "mazda      1.19511  1.18617  1.19427  ...   1.26546   0.830998   2.59076\n",
       "nissan      1.1481   1.1995  1.12067  ...   1.22595   0.949633   1.30616\n",
       "chevrolet  1.17411  1.16045  1.31062  ...   1.42753    1.69986   2.48418\n",
       "saturn     1.10526   1.1629  1.16051  ...  0.999111     1.2269  0.521595\n",
       "chrysler   1.13746  1.17492  1.38398  ...    1.1871    1.76696         0\n",
       "subaru     1.18763  1.33045  1.12145  ...   1.17757    1.61794         0\n",
       "\n",
       "[10 rows x 10 columns]"
      ]
     },
     "execution_count": 40,
     "metadata": {
      "tags": []
     },
     "output_type": "execute_result"
    }
   ],
   "source": [
    "attr_matrix"
   ]
  },
  {
   "cell_type": "code",
   "execution_count": 43,
   "metadata": {
    "colab": {
     "base_uri": "https://localhost:8080/",
     "height": 653
    },
    "colab_type": "code",
    "executionInfo": {
     "elapsed": 1119,
     "status": "ok",
     "timestamp": 1573262341862,
     "user": {
      "displayName": "Pooja Dawada",
      "photoUrl": "",
      "userId": "09599169313104029998"
     },
     "user_tz": 360
    },
    "id": "1SWxH79TurGY",
    "outputId": "51596bc0-f22f-4811-be6a-2fa5652df856"
   },
   "outputs": [
    {
     "data": {
      "text/plain": [
       "<matplotlib.axes._subplots.AxesSubplot at 0x7f964e6b87f0>"
      ]
     },
     "execution_count": 43,
     "metadata": {
      "tags": []
     },
     "output_type": "execute_result"
    },
    {
     "data": {
      "image/png": "[encoded data removed]",
      "text/plain": [
       "<Figure size 842.4x595.44 with 2 Axes>"
      ]
     },
     "metadata": {
      "tags": []
     },
     "output_type": "display_data"
    }
   ],
   "source": [
    "attr_matrix = attr_matrix.fillna(0)\n",
    "sns.heatmap(attr_matrix, annot=True)"
   ]
  },
  {
   "cell_type": "code",
   "execution_count": 0,
   "metadata": {
    "colab": {
     "base_uri": "https://localhost:8080/",
     "height": 242
    },
    "colab_type": "code",
    "executionInfo": {
     "elapsed": 16297,
     "status": "ok",
     "timestamp": 1573250636341,
     "user": {
      "displayName": "Anshika Ahuja",
      "photoUrl": "",
      "userId": "15378155533742919869"
     },
     "user_tz": 360
    },
    "id": "Gy7xIO31pR5A",
    "outputId": "8a9a5b9e-036d-4414-bda7-56dfa5a2c3d8"
   },
   "outputs": [
    {
     "data": {
      "text/plain": [
       "toyota     Models                     1.68237\n",
       "           Rankings/Rating/Reviews    1.80148\n",
       "mazda      Pickup                     2.59076\n",
       "chevrolet  Year                       1.60629\n",
       "           Models                     1.67565\n",
       "           Rankings/Rating/Reviews    2.32243\n",
       "           Efficiency                 1.69986\n",
       "           Pickup                     2.48418\n",
       "chrysler   Year                       1.62669\n",
       "           Manufacturer               1.63341\n",
       "           Efficiency                 1.76696\n",
       "subaru     Efficiency                 1.61794\n",
       "dtype: object"
      ]
     },
     "execution_count": 30,
     "metadata": {
      "tags": []
     },
     "output_type": "execute_result"
    }
   ],
   "source": [
    "#Change the threshold as needed\n",
    "attr_matrix[attr_matrix >1.6].stack()"
   ]
  },
  {
   "cell_type": "markdown",
   "metadata": {
    "colab_type": "text",
    "id": "Lw2TEG6I3yw3"
   },
   "source": [
    "#Task D: Advice to managers"
   ]
  },
  {
   "cell_type": "markdown",
   "metadata": {
    "colab_type": "text",
    "id": "YVLJp35VX88R"
   },
   "source": [
    "\n",
    "\n",
    "Mazda and Chevrolet have an exceptionally good lift with pickup, which could also mean that people are mentioning about pickup trucks of these brands in the discussion about midsize sedans. This could mean people talk about pickup trucks of these brands while talking about sedans. This is a business opportunity for Mazda and Chevrolet to expand their pickup truck business by associating with sedans. Which could be something interesting to look into. "
   ]
  },
  {
   "cell_type": "markdown",
   "metadata": {
    "colab_type": "text",
    "id": "2MvkJQCWNdP0"
   },
   "source": [
    "# TASK E: Aspirations\n"
   ]
  },
  {
   "cell_type": "markdown",
   "metadata": {
    "colab_type": "text",
    "id": "P4hgCkF4NuWd"
   },
   "source": [
    "## Bigram Creation"
   ]
  },
  {
   "cell_type": "markdown",
   "metadata": {
    "colab_type": "text",
    "id": "npYXKFK5NoQk"
   },
   "source": [
    "Bigram Creation\n"
   ]
  },
  {
   "cell_type": "code",
   "execution_count": 0,
   "metadata": {
    "colab": {
     "base_uri": "https://localhost:8080/",
     "height": 71
    },
    "colab_type": "code",
    "executionInfo": {
     "elapsed": 21686,
     "status": "ok",
     "timestamp": 1573250641742,
     "user": {
      "displayName": "Anshika Ahuja",
      "photoUrl": "",
      "userId": "15378155533742919869"
     },
     "user_tz": 360
    },
    "id": "nnDrbYQo2WMk",
    "outputId": "3d3af4a6-b87f-427e-f736-6aec5e509586"
   },
   "outputs": [
    {
     "name": "stderr",
     "output_type": "stream",
     "text": [
      "/usr/local/lib/python3.6/dist-packages/ipykernel_launcher.py:7: DeprecationWarning: generator 'ngrams' raised StopIteration\n",
      "  import sys\n"
     ]
    }
   ],
   "source": [
    "from nltk.util import ngrams\n",
    "\n",
    "punct = set(list(punctuation))\n",
    "def create_bigrams(comments):\n",
    "  tokens = word_tokenize(comments)\n",
    "  filtered_words = [word.lower() for word in tokens if word not in punct]\n",
    "  bigram = list(ngrams(filtered_words, 2))\n",
    "  return list(set(bigram))\n",
    "  \n",
    "df_comments['Bigram list'] = df_comments['comment_'].map(create_bigrams)"
   ]
  },
  {
   "cell_type": "code",
   "execution_count": 0,
   "metadata": {
    "colab": {},
    "colab_type": "code",
    "id": "26eMhJrs4k-r"
   },
   "outputs": [],
   "source": [
    "aspir_list = []\n",
    "aspir_list = [('love', 'to'),\n",
    "('would', 'love'),\n",
    "('would', 'hope'),\n",
    "('hope', 'to'),\n",
    "('wish', 'to'),\n",
    "('wish', 'that'),\n",
    "('wish', 'for'),\n",
    "('wishing', 'for'),\n",
    "('want', 'to'),\n",
    "('wants', 'to'),\n",
    "('dream', 'of'),\n",
    "('daydreaming', 'about'),\n",
    "('dream', 'to'),\n",
    "('desire', 'for'),\n",
    "('desire', 'to'),\n",
    "('everyone', 'desires'),\n",
    "('future', 'car'),\n",
    "('near', 'future'),\n",
    "('future', 'vehicle'),\n",
    "('to', 'buy'),\n",
    "('buy', 'the'),\n",
    "('buy', 'it'),\n",
    "('can', 'buy'),\n",
    "('would', 'buy'),\n",
    "('will', 'buy'),\n",
    "('will', 'buy'),\n",
    "('could', 'buy'),\n",
    "('buy', 'cars'),\n",
    "('buy', 'new'),\n",
    "('may', 'buy'),\n",
    "('to', 'purchase'),\n",
    "('purchase', 'the'),\n",
    "('purchase', 'it'),\n",
    "('purchase', 'cars'),\n",
    "('possible', 'purchase'),\n",
    "('will', 'purchase'),\n",
    "('next', 'purchase'),\n",
    "('like', 'to'),\n",
    "('will', 'get'),\n",
    "('could', 'get'),\n",
    "('I', 'wish'),\n",
    "('can', 'get')]"
   ]
  },
  {
   "cell_type": "markdown",
   "metadata": {
    "colab_type": "text",
    "id": "-tUD94BaOAFs"
   },
   "source": [
    "##Getting most aspirational brands\n"
   ]
  },
  {
   "cell_type": "code",
   "execution_count": 0,
   "metadata": {
    "colab": {},
    "colab_type": "code",
    "id": "pziN7BTQEz-s"
   },
   "outputs": [],
   "source": [
    "# Getting the aspiration counts from the user comments\n",
    "def aspir_count(comment):\n",
    "  for i in range(len(comment)):\n",
    "    if comment[i] in aspir_list:\n",
    "      return 1\n",
    "      break"
   ]
  },
  {
   "cell_type": "code",
   "execution_count": 0,
   "metadata": {
    "colab": {},
    "colab_type": "code",
    "id": "hGqmQhBADEk9"
   },
   "outputs": [],
   "source": [
    "df_comments['aspirations'] = df_comments['Bigram list'].map(aspir_count)\n",
    "df_comments['aspirations'].fillna(0, inplace=True)"
   ]
  },
  {
   "cell_type": "code",
   "execution_count": 0,
   "metadata": {
    "colab": {},
    "colab_type": "code",
    "id": "bZQo12eeLBeV"
   },
   "outputs": [],
   "source": [
    "# Creating the lift matrix\n",
    "aspirations = df_comments.iloc[ :, -1:].columns.values\n",
    "aspr_matrix = pd.DataFrame(index=top10_brands, columns=aspirations)\n"
   ]
  },
  {
   "cell_type": "code",
   "execution_count": 0,
   "metadata": {
    "colab": {},
    "colab_type": "code",
    "id": "5qzzfwOUUdEN"
   },
   "outputs": [],
   "source": [
    "for brand in top10_brands:\n",
    "  freq_brand = df_comments[brand].sum()\n",
    "  freq_aspr = df_comments['aspirations'].sum()\n",
    "  freq_both = df_comments[aspirations][(df_comments[brand] == 1) & (df_comments['aspirations'] == 1 )].sum()\n",
    "  lift = len(df_comments) * freq_both / (freq_brand * freq_aspr)\n",
    "  aspr_matrix.loc[brand] = lift"
   ]
  },
  {
   "cell_type": "code",
   "execution_count": 0,
   "metadata": {
    "colab": {
     "base_uri": "https://localhost:8080/",
     "height": 362
    },
    "colab_type": "code",
    "executionInfo": {
     "elapsed": 22479,
     "status": "ok",
     "timestamp": 1573250642567,
     "user": {
      "displayName": "Anshika Ahuja",
      "photoUrl": "",
      "userId": "15378155533742919869"
     },
     "user_tz": 360
    },
    "id": "Esq_pKYlwkIh",
    "outputId": "33695290-60b8-4265-e335-32acdd3be289"
   },
   "outputs": [
    {
     "data": {
      "text/html": [
       "<div>\n",
       "<style scoped>\n",
       "    .dataframe tbody tr th:only-of-type {\n",
       "        vertical-align: middle;\n",
       "    }\n",
       "\n",
       "    .dataframe tbody tr th {\n",
       "        vertical-align: top;\n",
       "    }\n",
       "\n",
       "    .dataframe thead th {\n",
       "        text-align: right;\n",
       "    }\n",
       "</style>\n",
       "<table border=\"1\" class=\"dataframe\">\n",
       "  <thead>\n",
       "    <tr style=\"text-align: right;\">\n",
       "      <th></th>\n",
       "      <th>aspirations</th>\n",
       "    </tr>\n",
       "  </thead>\n",
       "  <tbody>\n",
       "    <tr>\n",
       "      <th>mazda</th>\n",
       "      <td>1.47004</td>\n",
       "    </tr>\n",
       "    <tr>\n",
       "      <th>subaru</th>\n",
       "      <td>1.40552</td>\n",
       "    </tr>\n",
       "    <tr>\n",
       "      <th>toyota</th>\n",
       "      <td>1.32045</td>\n",
       "    </tr>\n",
       "    <tr>\n",
       "      <th>chevrolet</th>\n",
       "      <td>1.25295</td>\n",
       "    </tr>\n",
       "    <tr>\n",
       "      <th>hyundai</th>\n",
       "      <td>1.22307</td>\n",
       "    </tr>\n",
       "    <tr>\n",
       "      <th>ford</th>\n",
       "      <td>1.18924</td>\n",
       "    </tr>\n",
       "    <tr>\n",
       "      <th>honda</th>\n",
       "      <td>1.15993</td>\n",
       "    </tr>\n",
       "    <tr>\n",
       "      <th>saturn</th>\n",
       "      <td>1.15096</td>\n",
       "    </tr>\n",
       "    <tr>\n",
       "      <th>chrysler</th>\n",
       "      <td>1.08977</td>\n",
       "    </tr>\n",
       "    <tr>\n",
       "      <th>nissan</th>\n",
       "      <td>0.952889</td>\n",
       "    </tr>\n",
       "  </tbody>\n",
       "</table>\n",
       "</div>"
      ],
      "text/plain": [
       "          aspirations\n",
       "mazda         1.47004\n",
       "subaru        1.40552\n",
       "toyota        1.32045\n",
       "chevrolet     1.25295\n",
       "hyundai       1.22307\n",
       "ford          1.18924\n",
       "honda         1.15993\n",
       "saturn        1.15096\n",
       "chrysler      1.08977\n",
       "nissan       0.952889"
      ]
     },
     "execution_count": 37,
     "metadata": {
      "tags": []
     },
     "output_type": "execute_result"
    }
   ],
   "source": [
    "aspr_matrix.sort_values(by = 'aspirations', ascending= False)"
   ]
  },
  {
   "cell_type": "markdown",
   "metadata": {
    "colab_type": "text",
    "id": "Og0NieSwUN8V"
   },
   "source": [
    "## Insights\n",
    "\n"
   ]
  },
  {
   "cell_type": "markdown",
   "metadata": {
    "colab_type": "text",
    "id": "NRw7VFGKY2hX"
   },
   "source": [
    "**Methodology Adopted:** We made a list of probable aspirational phrases (bigrams) like 'wish to', 'dream of', etc., which can be used by users to convey their aspirations to buy a particular brand of car. We calculated the aspirations count for each comment (set as 1 if the comment had mentions of 1 or more aspirational phrases from the list).\n",
    "Then, we calculated the asscoiations between the top 10 brands andthe aspirational words by calculating their lift.\n"
   ]
  },
  {
   "cell_type": "markdown",
   "metadata": {
    "colab_type": "text",
    "id": "mZ50c7kEZ5Ys"
   },
   "source": [
    "**Results and Recommendations:** As we can observe from the lift ratios between brands and aspirations, Mazda seems to be the most aspirational brand and people are showing interest in buying Mazda cars in the future. Our advice to the managers would be to prepare for the forecasted demand and manufacture accordingly. This should lead to higher revenues and profits for Mazda.\n",
    "The product managers of Mazda can also try to check what attributes of the cars are making people want to buy them and the advertising managers can advertise more on those attributes to acquire more customers.\n",
    "\n",
    "On the other hand, brands with low lift scores like Nissan should be concerned since their low lift scores means that people are not aspiring to own their brands. Product managers can try to introduce new features which may bring a change. Advertising managers can try to market the important attributes in such a way that it changes people's perceptions towards the brands.\n",
    "\n"
   ]
  }
 ],
 "metadata": {
  "colab": {
   "collapsed_sections": [],
   "name": "HW1_TextAnalytics_Pooja.ipynb",
   "provenance": []
  },
  "kernelspec": {
   "display_name": "Python 3",
   "language": "python",
   "name": "python3"
  },
  "language_info": {
   "codemirror_mode": {
    "name": "ipython",
    "version": 3
   },
   "file_extension": ".py",
   "mimetype": "text/x-python",
   "name": "python",
   "nbconvert_exporter": "python",
   "pygments_lexer": "ipython3",
   "version": "3.7.3"
  }
 },
 "nbformat": 4,
 "nbformat_minor": 1
}
